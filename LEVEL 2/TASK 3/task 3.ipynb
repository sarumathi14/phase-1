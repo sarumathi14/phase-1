{
 "cells": [
  {
   "cell_type": "code",
   "execution_count": null,
   "metadata": {},
   "outputs": [
    {
     "name": "stdout",
     "output_type": "stream",
     "text": [
      "Original array: [1, 2, 3, 4, 5, 6]\n",
      "Multiplier: 3\n",
      "def function result: [6, 12, 18]\n",
      "lambda+map+filter result: [6, 12, 18]\n"
     ]
    }
   ],
   "source": [
    "arr = [1, 2, 3, 4, 5, 6]\n",
    "num = 3\n",
    "def multiply_and_filter(arr, num):\n",
    "    multiplied = [x * num for x in arr]\n",
    "    return [x for x in multiplied if x % 2 == 0]\n",
    "lambda_result = list(filter(lambda x: x % 2 == 0, map(lambda x: x * num, arr)))\n",
    "print(\"Original array:\", arr)\n",
    "print(\"Multiplier:\", num)\n",
    "print(\"def function result:\", multiply_and_filter(arr, num))\n",
    "print(\"lambda+map+filter result:\", lambda_result)"
   ]
  }
 ],
 "metadata": {
  "kernelspec": {
   "display_name": "Python 3",
   "language": "python",
   "name": "python3"
  },
  "language_info": {
   "codemirror_mode": {
    "name": "ipython",
    "version": 3
   },
   "file_extension": ".py",
   "mimetype": "text/x-python",
   "name": "python",
   "nbconvert_exporter": "python",
   "pygments_lexer": "ipython3",
   "version": "3.12.6"
  }
 },
 "nbformat": 4,
 "nbformat_minor": 2
}
