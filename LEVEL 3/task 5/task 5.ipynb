{
 "cells": [
  {
   "cell_type": "code",
   "execution_count": null,
   "metadata": {},
   "outputs": [
    {
     "name": "stdout",
     "output_type": "stream",
     "text": [
      "Original: [[9, 2], [3, 4]]\n",
      "Shallow copy: [[9, 2], [3, 4]]\n",
      "Deep copy: [[8, 2], [3, 4]]\n"
     ]
    }
   ],
   "source": [
    "import copy\n",
    "original_list = [[1, 2], [3, 4]]\n",
    "shallow_copy = copy.copy(original_list)\n",
    "deep_copy = copy.deepcopy(original_list)\n",
    "shallow_copy[0][0] = 9\n",
    "deep_copy[0][0] = 8\n",
    "print(\"Original:\", original_list)\n",
    "print(\"Shallow copy:\", shallow_copy)\n",
    "print(\"Deep copy:\", deep_copy)"
   ]
  }
 ],
 "metadata": {
  "kernelspec": {
   "display_name": "Python 3",
   "language": "python",
   "name": "python3"
  },
  "language_info": {
   "codemirror_mode": {
    "name": "ipython",
    "version": 3
   },
   "file_extension": ".py",
   "mimetype": "text/x-python",
   "name": "python",
   "nbconvert_exporter": "python",
   "pygments_lexer": "ipython3",
   "version": "3.12.6"
  }
 },
 "nbformat": 4,
 "nbformat_minor": 2
}
