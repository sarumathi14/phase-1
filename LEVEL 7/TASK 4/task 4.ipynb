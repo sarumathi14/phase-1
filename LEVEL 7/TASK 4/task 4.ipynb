{
 "cells": [
  {
   "cell_type": "code",
   "execution_count": 1,
   "metadata": {},
   "outputs": [
    {
     "name": "stdout",
     "output_type": "stream",
     "text": [
      "Chi-Square Goodness-of-Fit Test Results\n",
      "--------------------------------------\n",
      "Observed frequencies: [121, 288, 91]\n",
      "Expected frequencies: [100, 150, 250]\n",
      "Chi-square statistic: 232.4940\n",
      "P-value: 0.000000\n",
      "Significance level (α): 0.05\n",
      "Decision: Reject H₀\n",
      "\n",
      "Conclusion: Reject H₀; the age distribution has significantly changed from 2000 to 2010.\n"
     ]
    }
   ],
   "source": [
    "from scipy import stats\n",
    "\n",
    "# Define the observed and expected frequencies\n",
    "observed = [121, 288, 91]\n",
    "expected = [100, 150, 250]  # 500 * [0.2, 0.3, 0.5]\n",
    "\n",
    "# Perform the chi-square test\n",
    "chi2_stat, p_value = stats.chisquare(f_obs=observed, f_exp=expected)\n",
    "\n",
    "# Significance level\n",
    "alpha = 0.05\n",
    "\n",
    "# Make decision\n",
    "decision = \"Reject H₀\" if p_value < alpha else \"Fail to reject H₀\"\n",
    "\n",
    "# Print results\n",
    "print(\"Chi-Square Goodness-of-Fit Test Results\")\n",
    "print(\"--------------------------------------\")\n",
    "print(f\"Observed frequencies: {observed}\")\n",
    "print(f\"Expected frequencies: {expected}\")\n",
    "print(f\"Chi-square statistic: {chi2_stat:.4f}\")\n",
    "print(f\"P-value: {p_value:.6f}\")\n",
    "print(f\"Significance level (α): {alpha}\")\n",
    "print(f\"Decision: {decision}\")\n",
    "\n",
    "# Interpretation\n",
    "if p_value < alpha:\n",
    "    print(\"\\nConclusion: Reject H₀; the age distribution has significantly changed from 2000 to 2010.\")\n",
    "else:\n",
    "    print(\"\\nConclusion: Fail to reject H₀; no significant evidence that age distribution has changed.\")"
   ]
  }
 ],
 "metadata": {
  "kernelspec": {
   "display_name": "Python 3",
   "language": "python",
   "name": "python3"
  },
  "language_info": {
   "codemirror_mode": {
    "name": "ipython",
    "version": 3
   },
   "file_extension": ".py",
   "mimetype": "text/x-python",
   "name": "python",
   "nbconvert_exporter": "python",
   "pygments_lexer": "ipython3",
   "version": "3.12.6"
  }
 },
 "nbformat": 4,
 "nbformat_minor": 2
}
