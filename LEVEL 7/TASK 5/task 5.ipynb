{
 "cells": [
  {
   "cell_type": "code",
   "execution_count": 1,
   "metadata": {},
   "outputs": [
    {
     "name": "stdout",
     "output_type": "stream",
     "text": [
      "Covariance Calculation Results\n",
      "-----------------------------\n",
      "Height measurements: [160 170 180 175]\n",
      "Weight measurements: [60 70 75 65]\n",
      "Sample covariance: 45.83\n",
      "\n",
      "Interpretation: Positive covariance; as height increases, weight tends to increase.\n"
     ]
    }
   ],
   "source": [
    "import numpy as np\n",
    "\n",
    "# Define the data\n",
    "height = np.array([160, 170, 180, 175])  # in cm\n",
    "weight = np.array([60, 70, 75, 65])      # in kg\n",
    "\n",
    "# Calculate covariance (sample covariance with ddof=1)\n",
    "covariance = np.cov(height, weight, ddof=1)[0, 1]\n",
    "\n",
    "# Print the result\n",
    "print(\"Covariance Calculation Results\")\n",
    "print(\"-----------------------------\")\n",
    "print(f\"Height measurements: {height}\")\n",
    "print(f\"Weight measurements: {weight}\")\n",
    "print(f\"Sample covariance: {covariance:.2f}\")\n",
    "\n",
    "# Interpretation\n",
    "if covariance > 0:\n",
    "    interpretation = \"Positive covariance; as height increases, weight tends to increase.\"\n",
    "elif covariance < 0:\n",
    "    interpretation = \"Negative covariance; as height increases, weight tends to decrease.\"\n",
    "else:\n",
    "    interpretation = \"Zero covariance; no linear relationship between height and weight.\"\n",
    "\n",
    "print(\"\\nInterpretation:\", interpretation)"
   ]
  }
 ],
 "metadata": {
  "kernelspec": {
   "display_name": "Python 3",
   "language": "python",
   "name": "python3"
  },
  "language_info": {
   "codemirror_mode": {
    "name": "ipython",
    "version": 3
   },
   "file_extension": ".py",
   "mimetype": "text/x-python",
   "name": "python",
   "nbconvert_exporter": "python",
   "pygments_lexer": "ipython3",
   "version": "3.12.6"
  }
 },
 "nbformat": 4,
 "nbformat_minor": 2
}
