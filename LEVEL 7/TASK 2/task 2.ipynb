{
 "cells": [
  {
   "cell_type": "code",
   "execution_count": null,
   "metadata": {},
   "outputs": [
    {
     "name": "stdout",
     "output_type": "stream",
     "text": [
      "Two-Sample Z-Test Results (New Method vs Traditional)\n",
      "----------------------------------------------------\n",
      "Traditional Method: Mean = 72.81, n = 40\n",
      "New Method: Mean = 82.04, n = 35\n",
      "Z-score: -3.7874\n",
      "P-value: 0.9999\n",
      "Significance level (α): 0.05\n",
      "Decision: Fail to reject H₀\n",
      "\n",
      "Conclusion: There is no significant evidence that the new teaching method improves test scores (p > 0.05).\n"
     ]
    }
   ],
   "source": [
    "import numpy as np\n",
    "from statsmodels.stats.weightstats import ztest\n",
    "np.random.seed(42)\n",
    "traditional_scores = np.random.normal(loc=75, scale=10, size=40)\n",
    "new_method_scores = np.random.normal(loc=82, scale=12, size=35)\n",
    "z_score, p_value = ztest(traditional_scores, new_method_scores, alternative='larger')\n",
    "alpha = 0.05\n",
    "decision = \"Reject H₀\" if p_value < alpha else \"Fail to reject H₀\"\n",
    "print(\"Two-Sample Z-Test Results (New Method vs Traditional)\")\n",
    "print(\"----------------------------------------------------\")\n",
    "print(f\"Traditional Method: Mean = {np.mean(traditional_scores):.2f}, n = {len(traditional_scores)}\")\n",
    "print(f\"New Method: Mean = {np.mean(new_method_scores):.2f}, n = {len(new_method_scores)}\")\n",
    "print(f\"Z-score: {z_score:.4f}\")\n",
    "print(f\"P-value: {p_value:.4f}\")\n",
    "print(f\"Significance level (α): {alpha}\")\n",
    "print(f\"Decision: {decision}\")\n",
    "if p_value < alpha:\n",
    "    print(\"\\nConclusion: The new teaching method significantly improves test scores (p < 0.05).\")\n",
    "else:\n",
    "    print(\"\\nConclusion: There is no significant evidence that the new teaching method improves test scores (p > 0.05).\")"
   ]
  }
 ],
 "metadata": {
  "kernelspec": {
   "display_name": "Python 3",
   "language": "python",
   "name": "python3"
  },
  "language_info": {
   "codemirror_mode": {
    "name": "ipython",
    "version": 3
   },
   "file_extension": ".py",
   "mimetype": "text/x-python",
   "name": "python",
   "nbconvert_exporter": "python",
   "pygments_lexer": "ipython3",
   "version": "3.12.6"
  }
 },
 "nbformat": 4,
 "nbformat_minor": 2
}
