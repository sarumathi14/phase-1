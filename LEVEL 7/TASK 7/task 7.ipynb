{
 "cells": [
  {
   "cell_type": "code",
   "execution_count": 1,
   "metadata": {},
   "outputs": [
    {
     "name": "stdout",
     "output_type": "stream",
     "text": [
      "Bernoulli Trials Simulation Results\n",
      "----------------------------------\n",
      "Theoretical probability of success: 0.3\n",
      "Number of trials simulated: 1000\n",
      "Empirical success probability: 0.2840\n",
      "Absolute difference: 0.0160\n",
      "\n",
      "The empirical probability matches well with the theoretical value.\n"
     ]
    }
   ],
   "source": [
    "import numpy as np\n",
    "\n",
    "# Parameters\n",
    "p_theoretical = 0.3  # Theoretical probability of success\n",
    "n_trials = 1000      # Number of trials to simulate\n",
    "\n",
    "# Simulate Bernoulli trials (1 = success, 0 = failure)\n",
    "trials = np.random.binomial(n=1, p=p_theoretical, size=n_trials)\n",
    "\n",
    "# Calculate empirical probability of success\n",
    "p_empirical = np.mean(trials)\n",
    "\n",
    "# Calculate absolute difference\n",
    "difference = abs(p_empirical - p_theoretical)\n",
    "\n",
    "# Print results\n",
    "print(\"Bernoulli Trials Simulation Results\")\n",
    "print(\"----------------------------------\")\n",
    "print(f\"Theoretical probability of success: {p_theoretical}\")\n",
    "print(f\"Number of trials simulated: {n_trials}\")\n",
    "print(f\"Empirical success probability: {p_empirical:.4f}\")\n",
    "print(f\"Absolute difference: {difference:.4f}\")\n",
    "\n",
    "# Interpretation\n",
    "if difference < 0.02:  # Arbitrary threshold for \"close enough\"\n",
    "    print(\"\\nThe empirical probability matches well with the theoretical value.\")\n",
    "else:\n",
    "    print(\"\\nThe empirical probability differs somewhat from the theoretical value.\")"
   ]
  }
 ],
 "metadata": {
  "kernelspec": {
   "display_name": "Python 3",
   "language": "python",
   "name": "python3"
  },
  "language_info": {
   "codemirror_mode": {
    "name": "ipython",
    "version": 3
   },
   "file_extension": ".py",
   "mimetype": "text/x-python",
   "name": "python",
   "nbconvert_exporter": "python",
   "pygments_lexer": "ipython3",
   "version": "3.12.6"
  }
 },
 "nbformat": 4,
 "nbformat_minor": 2
}
