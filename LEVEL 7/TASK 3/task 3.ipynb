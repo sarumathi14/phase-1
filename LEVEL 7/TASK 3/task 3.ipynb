{
 "cells": [
  {
   "cell_type": "code",
   "execution_count": null,
   "metadata": {},
   "outputs": [
    {
     "name": "stdout",
     "output_type": "stream",
     "text": [
      "One-Sample T-Test Results\n",
      "-------------------------\n",
      "Sample size: 30\n",
      "Sample mean: 136.24\n",
      "Sample standard deviation: 18.00\n",
      "Population mean: 100\n",
      "T-statistic: 11.0265\n",
      "P-value (one-tailed): 0.000000\n",
      "Significance level (α): 0.05\n",
      "Decision: Reject H₀\n",
      "\n",
      "Conclusion: Reject H₀; the medication significantly increases IQ (mean = 136.2 > 100).\n"
     ]
    }
   ],
   "source": [
    "import numpy as np\n",
    "from scipy import stats\n",
    "population_mean = 100\n",
    "sample_mean = 140\n",
    "sample_std = 20\n",
    "sample_size = 30\n",
    "alpha = 0.05\n",
    "np.random.seed(42)  \n",
    "sample_data = np.random.normal(loc=sample_mean, scale=sample_std, size=sample_size)\n",
    "t_statistic, p_value = stats.ttest_1samp(sample_data, popmean=population_mean)\n",
    "one_tailed_p_value = p_value / 2\n",
    "decision = \"Reject H₀\" if one_tailed_p_value < alpha else \"Fail to reject H₀\"\n",
    "print(\"One-Sample T-Test Results\")\n",
    "print(\"-------------------------\")\n",
    "print(f\"Sample size: {sample_size}\")\n",
    "print(f\"Sample mean: {np.mean(sample_data):.2f}\")\n",
    "print(f\"Sample standard deviation: {np.std(sample_data, ddof=1):.2f}\")\n",
    "print(f\"Population mean: {population_mean}\")\n",
    "print(f\"T-statistic: {t_statistic:.4f}\")\n",
    "print(f\"P-value (one-tailed): {one_tailed_p_value:.6f}\")\n",
    "print(f\"Significance level (α): {alpha}\")\n",
    "print(f\"Decision: {decision}\")\n",
    "if one_tailed_p_value < alpha:\n",
    "    print(\"\\nConclusion: Reject H₀; the medication significantly increases IQ (mean =\", \n",
    "          f\"{np.mean(sample_data):.1f} > {population_mean}).\")\n",
    "else:\n",
    "    print(\"\\nConclusion: Fail to reject H₀; no significant evidence that medication affects IQ.\")"
   ]
  }
 ],
 "metadata": {
  "kernelspec": {
   "display_name": "Python 3",
   "language": "python",
   "name": "python3"
  },
  "language_info": {
   "codemirror_mode": {
    "name": "ipython",
    "version": 3
   },
   "file_extension": ".py",
   "mimetype": "text/x-python",
   "name": "python",
   "nbconvert_exporter": "python",
   "pygments_lexer": "ipython3",
   "version": "3.12.6"
  }
 },
 "nbformat": 4,
 "nbformat_minor": 2
}
