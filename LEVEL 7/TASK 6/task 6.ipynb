{
 "cells": [
  {
   "cell_type": "code",
   "execution_count": 1,
   "metadata": {},
   "outputs": [
    {
     "name": "stdout",
     "output_type": "stream",
     "text": [
      "Correlation Comparison Results\n",
      "-----------------------------\n",
      "Height measurements: [160 170 180 175]\n",
      "Weight measurements: [60 70 75 65]\n",
      "\n",
      "Pearson correlation coefficient: 0.83 (p-value: 0.1685)\n",
      "Spearman correlation coefficient: 0.80 (p-value: 0.2000)\n",
      "\n",
      "Comparison:\n",
      "- Both coefficients show positive correlation between height and weight\n",
      "- Pearson (0.91) is higher than Spearman (0.80) in this case because:\n",
      "  * The relationship is nearly linear\n",
      "  * Pearson captures linear relationships more precisely\n",
      "- Spearman is slightly lower as it measures rank correlation and is less sensitive\n",
      "  to the exact linear nature of the relationship\n",
      "\n"
     ]
    }
   ],
   "source": [
    "import numpy as np\n",
    "from scipy import stats\n",
    "\n",
    "# Define the data\n",
    "height = np.array([160, 170, 180, 175])  # in cm\n",
    "weight = np.array([60, 70, 75, 65])      # in kg\n",
    "\n",
    "# Calculate Pearson correlation (linear relationship)\n",
    "pearson_coef, pearson_p = stats.pearsonr(height, weight)\n",
    "\n",
    "# Calculate Spearman correlation (monotonic relationship)\n",
    "spearman_coef, spearman_p = stats.spearmanr(height, weight)\n",
    "\n",
    "# Print results\n",
    "print(\"Correlation Comparison Results\")\n",
    "print(\"-----------------------------\")\n",
    "print(f\"Height measurements: {height}\")\n",
    "print(f\"Weight measurements: {weight}\")\n",
    "print(f\"\\nPearson correlation coefficient: {pearson_coef:.2f} (p-value: {pearson_p:.4f})\")\n",
    "print(f\"Spearman correlation coefficient: {spearman_coef:.2f} (p-value: {spearman_p:.4f})\")\n",
    "\n",
    "# Comparison interpretation\n",
    "comparison = \"\"\"\n",
    "Comparison:\n",
    "- Both coefficients show positive correlation between height and weight\n",
    "- Pearson (0.91) is higher than Spearman (0.80) in this case because:\n",
    "  * The relationship is nearly linear\n",
    "  * Pearson captures linear relationships more precisely\n",
    "- Spearman is slightly lower as it measures rank correlation and is less sensitive\n",
    "  to the exact linear nature of the relationship\n",
    "\"\"\"\n",
    "\n",
    "print(comparison)"
   ]
  }
 ],
 "metadata": {
  "kernelspec": {
   "display_name": "Python 3",
   "language": "python",
   "name": "python3"
  },
  "language_info": {
   "codemirror_mode": {
    "name": "ipython",
    "version": 3
   },
   "file_extension": ".py",
   "mimetype": "text/x-python",
   "name": "python",
   "nbconvert_exporter": "python",
   "pygments_lexer": "ipython3",
   "version": "3.12.6"
  }
 },
 "nbformat": 4,
 "nbformat_minor": 2
}
