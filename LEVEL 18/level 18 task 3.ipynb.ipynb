{
 "cells": [
  {
   "cell_type": "code",
   "execution_count": 0,
   "metadata": {
    "application/vnd.databricks.v1+cell": {
     "cellMetadata": {
      "byteLimit": 2048000,
      "rowLimit": 10000
     },
     "inputWidgets": {},
     "nuid": "0733d194-9ddc-42ea-86a3-f3ca8e7de6fb",
     "showTitle": false,
     "tableResultSettingsMap": {},
     "title": ""
    }
   },
   "outputs": [
    {
     "output_type": "stream",
     "name": "stdout",
     "output_type": "stream",
     "text": [
      "Creating managed table...\n\nManaged table contents:\n+-------+--------------------+----------+\n|ball_id|          commentary|match_date|\n+-------+--------------------+----------+\n|      1|Jasprit Bumrah to...|2023-01-01|\n|      2|Trent Boult to Vi...|2023-01-01|\n|      3|Pat Cummins to St...|2023-01-02|\n|      4|Rashid Khan to KL...|2023-01-02|\n+-------+--------------------+----------+\n\n\nCreating external table...\n\nDropping managed table...\n\nDropping external table...\nDoes external table data still exist after drop? False\nContents of external location: None\n"
     ]
    }
   ],
   "source": [
    "from pyspark.sql import SparkSession\n",
    "from pyspark.sql.types import StructType, StructField, IntegerType, StringType\n",
    "import os\n",
    "\n",
    "spark = SparkSession.builder \\\n",
    "    .appName(\"ManagedVsExternalTables\") \\\n",
    "    .enableHiveSupport() \\\n",
    "    .getOrCreate()\n",
    "\n",
    "data = [\n",
    "    (1, \"Jasprit Bumrah to Rohit Sharma, no run\", \"2023-01-01\"),\n",
    "    (2, \"Trent Boult to Virat Kohli, FOUR runs\", \"2023-01-01\"),\n",
    "    (3, \"Pat Cummins to Steve Smith, 1 run\", \"2023-01-02\"),\n",
    "    (4, \"Rashid Khan to KL Rahul, SIX\", \"2023-01-02\")\n",
    "]\n",
    "schema = StructType([\n",
    "    StructField(\"ball_id\", IntegerType(), False),\n",
    "    StructField(\"commentary\", StringType(), False),\n",
    "    StructField(\"match_date\", StringType(), False)\n",
    "])\n",
    "commentary_df = spark.createDataFrame(data, schema)\n",
    "\n",
    "print(\"Creating managed table...\")\n",
    "commentary_df.write.mode(\"overwrite\").saveAsTable(\"managed_commentary\")\n",
    "print(\"\\nManaged table contents:\")\n",
    "spark.sql(\"SELECT * FROM managed_commentary\").show()\n",
    "\n",
    "external_location = \"/tmp/external_tables/commentary_data\"  \n",
    "if os.path.exists(external_location):\n",
    "    import shutil\n",
    "    shutil.rmtree(external_location)\n",
    "\n",
    "print(\"\\nCreating external table...\")\n",
    "commentary_df.write.mode(\"overwrite\") \\\n",
    "    .option(\"path\", external_location) \\\n",
    "\n",
    "print(\"\\nDropping managed table...\")\n",
    "spark.sql(\"DROP TABLE managed_commentary\")\n",
    "\n",
    "print(\"\\nDropping external table...\")\n",
    "external_data_exists = os.path.exists(external_location)\n",
    "print(f\"Does external table data still exist after drop? {external_data_exists}\")\n",
    "print(f\"Contents of external location: {os.listdir(external_location) if external_data_exists else 'None'}\")\n",
    "\n",
    "if external_data_exists:\n",
    "    shutil.rmtree(external_location)\n",
    "\n",
    "spark.stop()"
   ]
  }
 ],
 "metadata": {
  "application/vnd.databricks.v1+notebook": {
   "computePreferences": null,
   "dashboards": [],
   "environmentMetadata": {
    "base_environment": "",
    "environment_version": "2"
   },
   "inputWidgetPreferences": null,
   "language": "python",
   "notebookMetadata": {
    "pythonIndentUnit": 4
   },
   "notebookName": "level 18 task 3.ipynb",
   "widgets": {}
  },
  "language_info": {
   "name": "python"
  }
 },
 "nbformat": 4,
 "nbformat_minor": 0
}