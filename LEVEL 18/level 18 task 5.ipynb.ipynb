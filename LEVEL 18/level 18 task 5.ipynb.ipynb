{
 "cells": [
  {
   "cell_type": "code",
   "execution_count": 0,
   "metadata": {
    "application/vnd.databricks.v1+cell": {
     "cellMetadata": {
      "byteLimit": 2048000,
      "rowLimit": 10000
     },
     "inputWidgets": {},
     "nuid": "b82d59da-47f5-4b91-8a0f-2ea9df45c094",
     "showTitle": false,
     "tableResultSettingsMap": {},
     "title": ""
    }
   },
   "outputs": [
    {
     "output_type": "stream",
     "name": "stdout",
     "output_type": "stream",
     "text": [
      "1. Number of teams each year:\n\n2. Number of matches abandoned, tied and completed:\n\n3. Average number of ball_no per match per inning:\n\n4. Number of matches each team has won in each year with performance comparison:\n"
     ]
    }
   ],
   "source": [
    "from pyspark.sql import SparkSession\n",
    "from pyspark.sql.functions import col, count, countDistinct, avg, sum, when\n",
    "from pyspark.sql.window import Window\n",
    "import pyspark.sql.functions as F\n",
    "\n",
    "spark = SparkSession.builder \\\n",
    "    .appName(\"CricketDataAggregations\") \\\n",
    "    .getOrCreate()\n",
    "\n",
    "print(\"1. Number of teams each year:\")    \n",
    "\n",
    "print(\"\\n2. Number of matches abandoned, tied and completed:\")\n",
    "\n",
    "print(\"\\n3. Average number of ball_no per match per inning:\")\n",
    "window_spec = Window.partitionBy(\"winner\").orderBy(\"season\")\n",
    "\n",
    "print(\"\\n4. Number of matches each team has won in each year with performance comparison:\")\n",
    "spark.stop()"
   ]
  }
 ],
 "metadata": {
  "application/vnd.databricks.v1+notebook": {
   "computePreferences": null,
   "dashboards": [],
   "environmentMetadata": {
    "base_environment": "",
    "environment_version": "2"
   },
   "inputWidgetPreferences": null,
   "language": "python",
   "notebookMetadata": {
    "pythonIndentUnit": 4
   },
   "notebookName": "level 18 task 5.ipynb",
   "widgets": {}
  },
  "language_info": {
   "name": "python"
  }
 },
 "nbformat": 4,
 "nbformat_minor": 0
}