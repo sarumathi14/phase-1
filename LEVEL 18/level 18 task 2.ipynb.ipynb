{
 "cells": [
  {
   "cell_type": "code",
   "execution_count": 0,
   "metadata": {
    "application/vnd.databricks.v1+cell": {
     "cellMetadata": {
      "byteLimit": 2048000,
      "rowLimit": 10000
     },
     "inputWidgets": {},
     "nuid": "cc92f71a-5d38-487a-a975-0612718f7cec",
     "showTitle": false,
     "tableResultSettingsMap": {},
     "title": ""
    }
   },
   "outputs": [
    {
     "output_type": "stream",
     "name": "stdout",
     "output_type": "stream",
     "text": [
      "Original DataFrame:\n+-------+--------------------+----------+----------+\n|ball_id|          commentary|match_date|match_info|\n+-------+--------------------+----------+----------+\n|      1|Jasprit Bumrah to...|2023-01-01| MI vs CSK|\n|      2|Trent Boult to Vi...|2023-01-01| MI vs CSK|\n|      3|Pat Cummins to St...|2023-01-02| RR vs SRH|\n|      4|Rashid Khan to KL...|2023-01-02| RR vs SRH|\n+-------+--------------------+----------+----------+\n\n\nQuerying temporary view:\n+-------+--------------------+----------+\n|ball_id|          commentary|match_info|\n+-------+--------------------+----------+\n|      1|Jasprit Bumrah to...| MI vs CSK|\n|      2|Trent Boult to Vi...| MI vs CSK|\n+-------+--------------------+----------+\n\n\nQuerying global temporary view:\n\nList of temporary views:\nSession-local temp views: [Table(name='commentary_view', catalog=None, namespace=[], description=None, tableType='TEMPORARY', isTemporary=True)]\nGlobal temp views: [Table(name='commentary_view', catalog=None, namespace=[], description=None, tableType='TEMPORARY', isTemporary=True)]\n"
     ]
    }
   ],
   "source": [
    "from pyspark.sql import SparkSession\n",
    "from pyspark.sql.types import StructType, StructField, IntegerType, StringType\n",
    "spark = SparkSession.builder \\\n",
    "    .appName(\"TempViewDemo\") \\\n",
    "    .getOrCreate()\n",
    "data = [\n",
    "    (1, \"Jasprit Bumrah to Rohit Sharma, no run\", \"2023-01-01\", \"MI vs CSK\"),\n",
    "    (2, \"Trent Boult to Virat Kohli, FOUR runs\", \"2023-01-01\", \"MI vs CSK\"),\n",
    "    (3, \"Pat Cummins to Steve Smith, 1 run\", \"2023-01-02\", \"RR vs SRH\"),\n",
    "    (4, \"Rashid Khan to KL Rahul, SIX\", \"2023-01-02\", \"RR vs SRH\")\n",
    "]\n",
    "schema = StructType([\n",
    "    StructField(\"ball_id\", IntegerType(), False),\n",
    "    StructField(\"commentary\", StringType(), False),\n",
    "    StructField(\"match_date\", StringType(), False),\n",
    "    StructField(\"match_info\", StringType(), False)\n",
    "])\n",
    "\n",
    "commentary_df = spark.createDataFrame(data, schema)\n",
    "\n",
    "print(\"Original DataFrame:\")\n",
    "commentary_df.show()\n",
    "\n",
    "commentary_df.createOrReplaceTempView(\"commentary_view\")\n",
    "\n",
    "print(\"\\nQuerying temporary view:\")\n",
    "spark.sql(\"\"\"\n",
    "    SELECT ball_id, commentary, match_info \n",
    "    FROM commentary_view \n",
    "    WHERE match_date = '2023-01-01'\n",
    "\"\"\").show()\n",
    "\n",
    "print(\"\\nQuerying global temporary view:\")\n",
    "\n",
    "print(\"\\nList of temporary views:\")\n",
    "print(\"Session-local temp views:\", spark.catalog.listTables())\n",
    "print(\"Global temp views:\", spark.catalog.listTables(\"global_temp\"))\n",
    "\n",
    "spark.catalog.dropTempView(\"commentary_view\")\n",
    "spark.catalog.dropGlobalTempView(\"global_commentary_view\")\n",
    "\n",
    "spark.stop()"
   ]
  }
 ],
 "metadata": {
  "application/vnd.databricks.v1+notebook": {
   "computePreferences": null,
   "dashboards": [],
   "environmentMetadata": {
    "base_environment": "",
    "environment_version": "2"
   },
   "inputWidgetPreferences": null,
   "language": "python",
   "notebookMetadata": {
    "pythonIndentUnit": 4
   },
   "notebookName": "level 18 task 2.ipynb",
   "widgets": {}
  },
  "language_info": {
   "name": "python"
  }
 },
 "nbformat": 4,
 "nbformat_minor": 0
}