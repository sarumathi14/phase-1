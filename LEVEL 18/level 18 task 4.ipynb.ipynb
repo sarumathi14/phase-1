{
 "cells": [
  {
   "cell_type": "code",
   "execution_count": 0,
   "metadata": {
    "application/vnd.databricks.v1+cell": {
     "cellMetadata": {
      "byteLimit": 2048000,
      "rowLimit": 10000
     },
     "inputWidgets": {},
     "nuid": "055f3cd0-2d3c-49b7-b720-39229c298bd3",
     "showTitle": false,
     "tableResultSettingsMap": {},
     "title": ""
    }
   },
   "outputs": [
    {
     "output_type": "stream",
     "name": "stdout",
     "output_type": "stream",
     "text": [
      "Creating initial Delta table...\nInitial Delta table:\n\nAdding dummy column 'is_processed'...\nTable with dummy column:\n\nTime travel demonstration:\na) Describe history:\n\nb) View table at version 0 (initial version):\n\nc) View table at version 1 (with dummy column):\n"
     ]
    }
   ],
   "source": [
    "from pyspark.sql import SparkSession\n",
    "from pyspark.sql.functions import lit\n",
    "import datetime\n",
    "spark = SparkSession.builder \\\n",
    "    .appName(\"DeltaTableDemo\") \\\n",
    "    .config(\"spark.sql.extensions\", \"io.delta.sql.DeltaSparkSessionExtension\") \\\n",
    "    .config(\"spark.sql.catalog.spark_catalog\", \"org.apache.spark.sql.delta.catalog.DeltaCatalog\") \\\n",
    "    .getOrCreate()\n",
    "data = [\n",
    "    (1, \"Jasprit Bumrah to Rohit Sharma, no run\", \"2023-01-01\"),\n",
    "    (2, \"Trent Boult to Virat Kohli, FOUR runs\", \"2023-01-01\"),\n",
    "    (3, \"Pat Cummins to Steve Smith, 1 run\", \"2023-01-02\"),\n",
    "    (4, \"Rashid Khan to KL Rahul, SIX\", \"2023-01-02\")\n",
    "]\n",
    "columns = [\"ball_id\", \"commentary\", \"match_date\"]\n",
    "\n",
    "commentary_df = spark.createDataFrame(data, columns)\n",
    "\n",
    "delta_path = \"/tmp/delta/commentary_data\"\n",
    "print(\"Creating initial Delta table...\")\n",
    "\n",
    "delta_table = spark.read.format(\"delta\").load(delta_path)\n",
    "print(\"Initial Delta table:\")\n",
    "\n",
    "print(\"\\nAdding dummy column 'is_processed'...\")\n",
    "current_time = datetime.datetime.now().strftime(\"%Y-%m-%d %H:%M:%S\")\n",
    "\n",
    "\n",
    "updated_table = spark.read.format(\"delta\").load(delta_path)\n",
    "print(\"Table with dummy column:\")\n",
    "print(\"\\nTime travel demonstration:\")\n",
    "print(\"a) Describe history:\")\n",
    "\n",
    "print(\"\\nb) View table at version 0 (initial version):\")\n",
    "\n",
    "\n",
    "print(\"\\nc) View table at version 1 (with dummy column):\")\n",
    "spark.stop()"
   ]
  }
 ],
 "metadata": {
  "application/vnd.databricks.v1+notebook": {
   "computePreferences": null,
   "dashboards": [],
   "environmentMetadata": {
    "base_environment": "",
    "environment_version": "2"
   },
   "inputWidgetPreferences": null,
   "language": "python",
   "notebookMetadata": {
    "pythonIndentUnit": 4
   },
   "notebookName": "level 18 task 4.ipynb",
   "widgets": {}
  },
  "language_info": {
   "name": "python"
  }
 },
 "nbformat": 4,
 "nbformat_minor": 0
}