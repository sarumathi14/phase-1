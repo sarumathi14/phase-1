{
 "cells": [
  {
   "cell_type": "code",
   "execution_count": 0,
   "metadata": {
    "application/vnd.databricks.v1+cell": {
     "cellMetadata": {
      "byteLimit": 2048000,
      "rowLimit": 10000
     },
     "inputWidgets": {},
     "nuid": "1966a230-070c-4350-ac71-dac363752dac",
     "showTitle": false,
     "tableResultSettingsMap": {},
     "title": ""
    }
   },
   "outputs": [
    {
     "output_type": "stream",
     "name": "stdout",
     "output_type": "stream",
     "text": [
      "Enriched data saved to enriched_player_data.csv\nPlayer data enrichment completed!\n"
     ]
    }
   ],
   "source": [
    "import requests\n",
    "import pandas as pd\n",
    "import time\n",
    "from datetime import datetime\n",
    "\n",
    "def fetch_player_details(player_href):\n",
    "    \"\"\"\n",
    "    Fetches player details from a given URL.\n",
    "    \n",
    "    Args:\n",
    "        player_href (str): URL to the player's profile page\n",
    "        \n",
    "    Returns:\n",
    "        dict: Dictionary containing player details with keys like:\n",
    "              'Date of Birth', 'Nationality', etc.\n",
    "    \"\"\"\n",
    "    try:\n",
    "        headers = {\n",
    "            'User-Agent': 'Mozilla/5.0 (Windows NT 10.0; Win64; x64) AppleWebKit/537.36 (KHTML, like Gecko) Chrome/91.0.4472.124 Safari/537.36'\n",
    "        }\n",
    "        response = requests.get(player_href, headers=headers)\n",
    "        response.raise_for_status() \n",
    "        soup = BeautifulSoup(response.text, 'html.parser')\n",
    "        player_details = {\n",
    "            'Date of Birth': None,\n",
    "            'Age': None,\n",
    "            'Nationality': None,\n",
    "            'Height': None,\n",
    "            'Weight': None,\n",
    "            'Position': None\n",
    "        }\n",
    "        info_table = soup.find('table', {'class': 'info-table'})  \n",
    "        if info_table:\n",
    "            rows = info_table.find_all('tr')\n",
    "            for row in rows:\n",
    "                cells = row.find_all('td')\n",
    "                if len(cells) == 2:\n",
    "                    key = cells[0].get_text(strip=True)\n",
    "                    value = cells[1].get_text(strip=True)\n",
    "                    \n",
    "                    if 'Date of Birth' in key:\n",
    "                        player_details['Date of Birth'] = value\n",
    "                        try:\n",
    "                            dob = datetime.strptime(value, '%Y-%m-%d')  \n",
    "                            today = datetime.now()\n",
    "                            age = today.year - dob.year - ((today.month, today.day) < (dob.month, dob.day))\n",
    "                            player_details['Age'] = age\n",
    "                        except:\n",
    "                            pass\n",
    "                    elif 'Nationality' in key:\n",
    "                        player_details['Nationality'] = value\n",
    "                    elif 'Height' in key:\n",
    "                        player_details['Height'] = value\n",
    "                    elif 'Weight' in key:\n",
    "                        player_details['Weight'] = value\n",
    "                    elif 'Position' in key:\n",
    "                        player_details['Position'] = value\n",
    "        \n",
    "        return player_details\n",
    "    \n",
    "    except Exception as e:\n",
    "        print(f\"Error fetching data from {player_href}: {str(e)}\")\n",
    "        return None\n",
    "\n",
    "def enrich_player_data(input_csv, output_csv, url_column='player_href'):\n",
    "    \"\"\"\n",
    "    Enriches player data by fetching additional details from URLs.\n",
    "    \n",
    "    Args:\n",
    "        input_csv (str): Path to input CSV file containing player URLs\n",
    "        output_csv (str): Path to save enriched CSV file\n",
    "        url_column (str): Name of column containing player URLs (default 'player_href')\n",
    "    \"\"\"\n",
    "    new_columns = ['Date of Birth', 'Age', 'Nationality', 'Height', 'Weight', 'Position']\n",
    "    for col in new_columns:\n",
    "            time.sleep(1)\n",
    "    \n",
    "    print(f\"Enriched data saved to {output_csv}\")\n",
    "if __name__ == \"__main__\":\n",
    "    input_file = 'player_data.csv' \n",
    "    output_file = 'enriched_player_data.csv'  \n",
    "    \n",
    "    enrich_player_data(input_file, output_file)\n",
    "    \n",
    "    print(\"Player data enrichment completed!\")"
   ]
  }
 ],
 "metadata": {
  "application/vnd.databricks.v1+notebook": {
   "computePreferences": null,
   "dashboards": [],
   "environmentMetadata": {
    "base_environment": "",
    "environment_version": "2"
   },
   "inputWidgetPreferences": null,
   "language": "python",
   "notebookMetadata": {
    "pythonIndentUnit": 4
   },
   "notebookName": "level 18 task 7.ipynb",
   "widgets": {}
  },
  "language_info": {
   "name": "python"
  }
 },
 "nbformat": 4,
 "nbformat_minor": 0
}