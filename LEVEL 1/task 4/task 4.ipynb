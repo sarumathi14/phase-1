{
 "cells": [
  {
   "cell_type": "code",
   "execution_count": 1,
   "metadata": {},
   "outputs": [
    {
     "name": "stdout",
     "output_type": "stream",
     "text": [
      "\n",
      "Final Dictionary: {'x': 2, 'y': 4, 'z': 9}\n"
     ]
    }
   ],
   "source": [
    "user_dict = {}\n",
    "for i in range(3):\n",
    "    key = input(f\"Enter key {i+1} (string): \")\n",
    "    value = int(input(f\"Enter value for '{key}' (integer): \"))  \n",
    "    user_dict[key] = value\n",
    "print(\"\\nFinal Dictionary:\",user_dict)"
   ]
  }
 ],
 "metadata": {
  "kernelspec": {
   "display_name": "Python 3",
   "language": "python",
   "name": "python3"
  },
  "language_info": {
   "codemirror_mode": {
    "name": "ipython",
    "version": 3
   },
   "file_extension": ".py",
   "mimetype": "text/x-python",
   "name": "python",
   "nbconvert_exporter": "python",
   "pygments_lexer": "ipython3",
   "version": "3.12.6"
  }
 },
 "nbformat": 4,
 "nbformat_minor": 2
}
