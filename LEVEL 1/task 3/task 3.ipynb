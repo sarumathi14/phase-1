{
 "cells": [
  {
   "cell_type": "code",
   "execution_count": null,
   "metadata": {},
   "outputs": [
    {
     "name": "stdout",
     "output_type": "stream",
     "text": [
      "First 5 rows:\n",
      "                                                          sample_data = {\n",
      "'name': ['Alice'    'Bob'    'Charlie' 'David' 'Eve']                 NaN\n",
      "'age': [25          30       35        40      45]                    NaN\n",
      "'city': ['New York' 'London' 'Paris'   'Tokyo' 'Sydney']              NaN\n",
      "}                   NaN      NaN       NaN     NaN                    NaN\n",
      "\n",
      "DataFrame info:\n",
      "<class 'pandas.core.frame.DataFrame'>\n",
      "MultiIndex: 4 entries, (\"'name': ['Alice'\", \" 'Bob'\", \" 'Charlie'\", \" 'David'\", \" 'Eve']\") to ('}', nan, nan, nan, nan)\n",
      "Data columns (total 1 columns):\n",
      " #   Column           Non-Null Count  Dtype  \n",
      "---  ------           --------------  -----  \n",
      " 0   sample_data = {  0 non-null      float64\n",
      "dtypes: float64(1)\n",
      "memory usage: 864.0+ bytes\n",
      "None\n"
     ]
    }
   ],
   "source": [
    "import pandas as pd\n",
    "df = pd.read_csv(r'C:\\Users\\sarum\\OneDrive\\Desktop\\LEVEL 1\\task 3\\task 3 dataset.txt')\n",
    "print(\"First 5 rows:\")\n",
    "print(df.head())\n",
    "print(\"\\nDataFrame info:\")\n",
    "print(df.info())"
   ]
  }
 ],
 "metadata": {
  "kernelspec": {
   "display_name": "Python 3",
   "language": "python",
   "name": "python3"
  },
  "language_info": {
   "codemirror_mode": {
    "name": "ipython",
    "version": 3
   },
   "file_extension": ".py",
   "mimetype": "text/x-python",
   "name": "python",
   "nbconvert_exporter": "python",
   "pygments_lexer": "ipython3",
   "version": "3.12.6"
  }
 },
 "nbformat": 4,
 "nbformat_minor": 2
}
