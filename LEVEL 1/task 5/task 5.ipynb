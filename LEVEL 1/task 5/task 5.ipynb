{
 "cells": [
  {
   "cell_type": "code",
   "execution_count": 1,
   "metadata": {},
   "outputs": [
    {
     "name": "stdout",
     "output_type": "stream",
     "text": [
      "sum=[[6, 8], [10, 12]], dot=[[19, 22], [43, 50]], element-wise multiplication=[[5, 12], [21, 32]], matrix multiplication=[[19, 22], [43, 50]]\n"
     ]
    }
   ],
   "source": [
    "import numpy as np\n",
    "matrix1 = np.array([[1, 2], \n",
    "                    [3, 4]])\n",
    "matrix2 = np.array([[5, 6], \n",
    "                    [7, 8]])\n",
    "matrix_sum = matrix1 + matrix2\n",
    "matrix_dot = np.dot(matrix1, matrix2)\n",
    "matrix_elementwise = matrix1 * matrix2\n",
    "matrix_matmul = matrix1 @ matrix2\n",
    "print(f\"sum={matrix_sum.tolist()}, \"\n",
    "      f\"dot={matrix_dot.tolist()}, \"\n",
    "      f\"element-wise multiplication={matrix_elementwise.tolist()}, \"\n",
    "      f\"matrix multiplication={matrix_matmul.tolist()}\")"
   ]
  }
 ],
 "metadata": {
  "kernelspec": {
   "display_name": "Python 3",
   "language": "python",
   "name": "python3"
  },
  "language_info": {
   "codemirror_mode": {
    "name": "ipython",
    "version": 3
   },
   "file_extension": ".py",
   "mimetype": "text/x-python",
   "name": "python",
   "nbconvert_exporter": "python",
   "pygments_lexer": "ipython3",
   "version": "3.12.6"
  }
 },
 "nbformat": 4,
 "nbformat_minor": 2
}
