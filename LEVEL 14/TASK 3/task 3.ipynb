{
 "cells": [
  {
   "cell_type": "code",
   "execution_count": 3,
   "id": "cc683d62",
   "metadata": {},
   "outputs": [
    {
     "name": "stdout",
     "output_type": "stream",
     "text": [
      "Empty DataFrame\n",
      "Columns: []\n",
      "Index: []\n"
     ]
    }
   ],
   "source": [
    "import requests\n",
    "import pandas as pd\n",
    "\n",
    "def scrape_commentary_via_api():\n",
    "    # Find the actual API endpoint (check browser's Network tab)\n",
    "    # Example API URL (you need to find the real one)\n",
    "    api_url = \"https://www.cricbuzz.com/api/cricket-match/commentary/12345\"\n",
    "    \n",
    "    headers = {\n",
    "        'User-Agent': 'Mozilla/5.0',\n",
    "        'Accept': 'application/json',\n",
    "    }\n",
    "    \n",
    "    try:\n",
    "        response = requests.get(api_url, headers=headers)\n",
    "        response.raise_for_status()\n",
    "        data = response.json()\n",
    "        \n",
    "        # Process JSON data (structure depends on API response)\n",
    "        commentary_data = []\n",
    "        for item in data.get('commentary', []):\n",
    "            commentary_data.append({\n",
    "                'over': item.get('overNum'),\n",
    "                'ball': item.get('ballNum'),\n",
    "                'commentary': item.get('commText'),\n",
    "                'event': item.get('event'),\n",
    "                'runs': item.get('runs'),\n",
    "                'batsman': item.get('batName'),\n",
    "                'bowler': item.get('bowlName'),\n",
    "                'timestamp': item.get('timestamp')\n",
    "            })\n",
    "        \n",
    "        return pd.DataFrame(commentary_data)\n",
    "    \n",
    "    except Exception as e:\n",
    "        print(f\"Error: {e}\")\n",
    "        return None\n",
    "\n",
    "# Usage\n",
    "commentary_df = scrape_commentary_via_api()\n",
    "if commentary_df is not None:\n",
    "    print(commentary_df.head())"
   ]
  }
 ],
 "metadata": {
  "kernelspec": {
   "display_name": "Python 3",
   "language": "python",
   "name": "python3"
  },
  "language_info": {
   "codemirror_mode": {
    "name": "ipython",
    "version": 3
   },
   "file_extension": ".py",
   "mimetype": "text/x-python",
   "name": "python",
   "nbconvert_exporter": "python",
   "pygments_lexer": "ipython3",
   "version": "3.12.6"
  }
 },
 "nbformat": 4,
 "nbformat_minor": 5
}
