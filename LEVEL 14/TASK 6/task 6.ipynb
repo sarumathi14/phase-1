{
 "cells": [
  {
   "cell_type": "code",
   "execution_count": 1,
   "id": "a679b5a5",
   "metadata": {},
   "outputs": [
    {
     "name": "stdout",
     "output_type": "stream",
     "text": [
      "^C\n",
      "Note: you may need to restart the kernel to use updated packages.\n"
     ]
    },
    {
     "name": "stderr",
     "output_type": "stream",
     "text": [
      "\n",
      "[notice] A new release of pip is available: 24.2 -> 25.0.1\n",
      "[notice] To update, run: python.exe -m pip install --upgrade pip\n"
     ]
    },
    {
     "name": "stdout",
     "output_type": "stream",
     "text": [
      "Requirement already satisfied: beautifulsoup4 in c:\\users\\sarum\\appdata\\local\\programs\\python\\python312\\lib\\site-packages (4.13.3)\n",
      "Requirement already satisfied: requests in c:\\users\\sarum\\appdata\\local\\programs\\python\\python312\\lib\\site-packages (2.32.3)\n",
      "Requirement already satisfied: pandas in c:\\users\\sarum\\appdata\\local\\programs\\python\\python312\\lib\\site-packages (2.2.3)\n",
      "Requirement already satisfied: soupsieve>1.2 in c:\\users\\sarum\\appdata\\local\\programs\\python\\python312\\lib\\site-packages (from beautifulsoup4) (2.6)\n",
      "Requirement already satisfied: typing-extensions>=4.0.0 in c:\\users\\sarum\\appdata\\local\\programs\\python\\python312\\lib\\site-packages (from beautifulsoup4) (4.12.2)\n",
      "Requirement already satisfied: charset-normalizer<4,>=2 in c:\\users\\sarum\\appdata\\local\\programs\\python\\python312\\lib\\site-packages (from requests) (3.4.1)\n",
      "Requirement already satisfied: idna<4,>=2.5 in c:\\users\\sarum\\appdata\\local\\programs\\python\\python312\\lib\\site-packages (from requests) (3.10)\n",
      "Requirement already satisfied: urllib3<3,>=1.21.1 in c:\\users\\sarum\\appdata\\local\\programs\\python\\python312\\lib\\site-packages (from requests) (2.3.0)\n",
      "Requirement already satisfied: certifi>=2017.4.17 in c:\\users\\sarum\\appdata\\local\\programs\\python\\python312\\lib\\site-packages (from requests) (2025.1.31)\n",
      "Requirement already satisfied: numpy>=1.26.0 in c:\\users\\sarum\\appdata\\local\\programs\\python\\python312\\lib\\site-packages (from pandas) (2.1.3)\n",
      "Requirement already satisfied: python-dateutil>=2.8.2 in c:\\users\\sarum\\appdata\\roaming\\python\\python312\\site-packages (from pandas) (2.9.0.post0)\n",
      "Requirement already satisfied: pytz>=2020.1 in c:\\users\\sarum\\appdata\\local\\programs\\python\\python312\\lib\\site-packages (from pandas) (2025.1)\n",
      "Requirement already satisfied: tzdata>=2022.7 in c:\\users\\sarum\\appdata\\local\\programs\\python\\python312\\lib\\site-packages (from pandas) (2025.1)\n",
      "Requirement already satisfied: six>=1.5 in c:\\users\\sarum\\appdata\\roaming\\python\\python312\\site-packages (from python-dateutil>=2.8.2->pandas) (1.17.0)\n"
     ]
    }
   ],
   "source": [
    "pip install beautifulsoup4 requests pandas"
   ]
  },
  {
   "cell_type": "code",
   "execution_count": 9,
   "id": "0650b81e",
   "metadata": {},
   "outputs": [
    {
     "name": "stdout",
     "output_type": "stream",
     "text": [
      "  match_venue_stadium match_venue_city match_venue_capacity  \\\n",
      "0                None             None                 None   \n",
      "\n",
      "  match_venue_host_teams  \n",
      "0                   None  \n"
     ]
    }
   ],
   "source": [
    "import requests\n",
    "from bs4 import BeautifulSoup\n",
    "import pandas as pd\n",
    "\n",
    "def scrape_venue_details(match_url):\n",
    "    \"\"\"\n",
    "    Scrape cricket match venue details from a given URL\n",
    "    \"\"\"\n",
    "    headers = {\n",
    "        'User-Agent': 'Mozilla/5.0 (Windows NT 10.0; Win64; x64) AppleWebKit/537.36 (KHTML, like Gecko) Chrome/91.0.4472.124 Safari/537.36'\n",
    "    }\n",
    "    response = requests.get(match_url, headers=headers)\n",
    "    soup = BeautifulSoup(response.content, 'html.parser')\n",
    "    venue_data = {\n",
    "        'match_venue_stadium': None,\n",
    "        'match_venue_city': None,\n",
    "        'match_venue_capacity': None,\n",
    "        'match_venue_host_teams': None\n",
    "    }\n",
    "    \n",
    "    try:\n",
    "        venue_info = soup.find('div', class_='match-info')\n",
    "        if venue_info:\n",
    "            venue_parts = venue_info.text.strip().split(',')\n",
    "            if len(venue_parts) >= 2:\n",
    "                venue_data['match_venue_stadium'] = venue_parts[0].strip()\n",
    "                venue_data['match_venue_city'] = venue_parts[1].strip()\n",
    "        capacity_tag = soup.find('span', string=lambda x: x and 'capacity' in x.lower())\n",
    "        if capacity_tag:\n",
    "            venue_data['match_venue_capacity'] = capacity_tag.find_next('span').text.strip()\n",
    "        teams_tag = soup.find('span', string=lambda x: x and 'home team' in x.lower())\n",
    "        if teams_tag:\n",
    "            venue_data['match_venue_host_teams'] = teams_tag.find_next('span').text.strip()\n",
    "        ground_link = soup.find('a', href=lambda x: x and 'ground' in x)\n",
    "        if ground_link:\n",
    "            ground_url = 'https://www.espncricinfo.com' + ground_link['href']\n",
    "            ground_response = requests.get(ground_url, headers=headers)\n",
    "            ground_soup = BeautifulSoup(ground_response.content, 'html.parser')\n",
    "            capacity_label = ground_soup.find('span', string='Capacity')\n",
    "            if capacity_label:\n",
    "                venue_data['match_venue_capacity'] = capacity_label.find_next('span').text.strip()\n",
    "            teams_label = ground_soup.find('span', string='Home team')\n",
    "            if teams_label:\n",
    "                venue_data['match_venue_host_teams'] = teams_label.find_next('span').text.strip()   \n",
    "    except Exception as e:\n",
    "        print(f\"Error scraping venue data: {e}\")   \n",
    "    return venue_data\n",
    "def scrape_match_with_venue(match_url):\n",
    "    \"\"\"\n",
    "    Only scrape venue details.\n",
    "    \"\"\"\n",
    "    venue_data = scrape_venue_details(match_url)\n",
    "    return venue_data\n",
    "if __name__ == \"__main__\":\n",
    "    match_url = \"https://www.espncricinfo.com/series/ipl-2023-1345038/chennai-super-kings-vs-gujarat-titans-final-1370353/full-scorecard\"\n",
    "    match_data = scrape_match_with_venue(r\"https://www.espncricinfo.com/series/ipl-2023-1345038/chennai-super-kings-vs-gujarat-titans-final-1370353/full-scorecard\")\n",
    "    df = pd.DataFrame([match_data])\n",
    "    print(df[['match_venue_stadium', 'match_venue_city', 'match_venue_capacity', 'match_venue_host_teams']])\n",
    "def scrape_scorecard(match_url):\n",
    "    \"\"\"\n",
    "    Dummy implementation. Replace with actual scorecard scraping logic.\n",
    "    \"\"\"\n",
    "    return {\n",
    "        'team1': 'Chennai Super Kings',\n",
    "        'team2': 'Gujarat Titans',\n",
    "        'score_team1': '171/5',\n",
    "        'score_team2': '214/4',\n",
    "        'result': 'Chennai Super Kings won by 5 wickets (DLS method)'\n",
    "    }\n"
   ]
  }
 ],
 "metadata": {
  "kernelspec": {
   "display_name": "Python 3",
   "language": "python",
   "name": "python3"
  },
  "language_info": {
   "codemirror_mode": {
    "name": "ipython",
    "version": 3
   },
   "file_extension": ".py",
   "mimetype": "text/x-python",
   "name": "python",
   "nbconvert_exporter": "python",
   "pygments_lexer": "ipython3",
   "version": "3.12.6"
  }
 },
 "nbformat": 4,
 "nbformat_minor": 5
}
