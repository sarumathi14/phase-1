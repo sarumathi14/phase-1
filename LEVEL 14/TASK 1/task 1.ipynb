{
 "cells": [
  {
   "cell_type": "code",
   "execution_count": 1,
   "id": "e065d53d",
   "metadata": {},
   "outputs": [
    {
     "name": "stdout",
     "output_type": "stream",
     "text": [
      "Empty DataFrame\n",
      "Columns: [year, series_type, series_name, series_href]\n",
      "Index: []\n"
     ]
    }
   ],
   "source": [
    "import requests\n",
    "from bs4 import BeautifulSoup\n",
    "import pandas as pd\n",
    "\n",
    "def scrape_cricket_series():\n",
    "    # URL to scrape\n",
    "    url = \"https://www.cricbuzz.com/cricket-series\"  # Note: Actual URL might be different\n",
    "    \n",
    "    # Send HTTP request\n",
    "    headers = {\n",
    "        'User-Agent': 'Mozilla/5.0 (Windows NT 10.0; Win64; x64) AppleWebKit/537.36 (KHTML, like Gecko) Chrome/91.0.4472.124 Safari/537.36'\n",
    "    }\n",
    "    \n",
    "    try:\n",
    "        response = requests.get(url, headers=headers)\n",
    "        response.raise_for_status()\n",
    "    except requests.exceptions.RequestException as e:\n",
    "        print(f\"Error fetching the page: {e}\")\n",
    "        return None\n",
    "    \n",
    "    # Parse HTML content\n",
    "    soup = BeautifulSoup(response.content, 'html.parser')\n",
    "    \n",
    "    # Initialize lists to store data\n",
    "    years = []\n",
    "    series_types = []\n",
    "    series_names = []\n",
    "    series_hrefs = []\n",
    "    \n",
    "    # Find all series sections (this will need adjustment based on actual page structure)\n",
    "    # This is a hypothetical implementation - the actual selectors will differ\n",
    "    series_sections = soup.find_all('div', class_='series-section')  # Example class\n",
    "    \n",
    "    for section in series_sections:\n",
    "        # Extract year (might be in section header)\n",
    "        year = section.find('h2').text.strip() if section.find('h2') else \"N/A\"\n",
    "        \n",
    "        # Extract series type (International/Domestic/etc.)\n",
    "        series_type = section.get('data-type', 'N/A')  # Example attribute\n",
    "        \n",
    "        # Find all series in this section\n",
    "        series_list = section.find_all('a', class_='series-link')  # Example class\n",
    "        \n",
    "        for series in series_list:\n",
    "            series_name = series.text.strip()\n",
    "            series_href = series.get('href', '#')\n",
    "            \n",
    "            # Append data to lists\n",
    "            years.append(year)\n",
    "            series_types.append(series_type)\n",
    "            series_names.append(series_name)\n",
    "            series_hrefs.append(series_href)\n",
    "    \n",
    "    # Create DataFrame\n",
    "    data = {\n",
    "        'year': years,\n",
    "        'series_type': series_types,\n",
    "        'series_name': series_names,\n",
    "        'series_href': series_hrefs\n",
    "    }\n",
    "    \n",
    "    df = pd.DataFrame(data)\n",
    "    return df\n",
    "\n",
    "# Run the scraper\n",
    "cricket_series_df = scrape_cricket_series()\n",
    "\n",
    "# Display the result\n",
    "if cricket_series_df is not None:\n",
    "    print(cricket_series_df.head())\n",
    "    # Optionally save to CSV\n",
    "    cricket_series_df.to_csv(r'C:\\Users\\sarum\\OneDrive\\Desktop\\LEVEL 14\\TASK 1\\cricket.csv', index=False)\n",
    "else:\n",
    "    print(\"Failed to scrape data.\")"
   ]
  }
 ],
 "metadata": {
  "kernelspec": {
   "display_name": "Python 3",
   "language": "python",
   "name": "python3"
  },
  "language_info": {
   "codemirror_mode": {
    "name": "ipython",
    "version": 3
   },
   "file_extension": ".py",
   "mimetype": "text/x-python",
   "name": "python",
   "nbconvert_exporter": "python",
   "pygments_lexer": "ipython3",
   "version": "3.12.6"
  }
 },
 "nbformat": 4,
 "nbformat_minor": 5
}
