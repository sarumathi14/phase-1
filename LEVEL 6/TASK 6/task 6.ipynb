{
 "cells": [
  {
   "cell_type": "code",
   "execution_count": 1,
   "metadata": {},
   "outputs": [
    {
     "name": "stdout",
     "output_type": "stream",
     "text": [
      "Dataset: [ 2  4  6  8 10]\n",
      "\n",
      "Mean: 6.0\n",
      "Variance (σ²): 8.0\n",
      "Standard Deviation (σ): 2.828\n",
      "\n",
      "Significance:\n",
      "- Variance measures the average squared distance from the mean\n",
      "- Standard deviation (square root of variance) shows typical deviation in original units\n",
      "- For this dataset, values typically vary by about ±2.83 from the mean of 6\n",
      "- Lower values would indicate points clustered closer to the mean\n"
     ]
    }
   ],
   "source": [
    "import numpy as np\n",
    "data = np.array([2, 4, 6, 8, 10])\n",
    "mean = np.mean(data)\n",
    "variance = np.var(data, ddof=0)  \n",
    "std_dev = np.std(data, ddof=0) \n",
    "print(f\"Dataset: {data}\\n\")\n",
    "print(f\"Mean: {mean}\")\n",
    "print(f\"Variance (σ²): {variance}\")\n",
    "print(f\"Standard Deviation (σ): {std_dev:.3f}\\n\")\n",
    "print(\"Significance:\")\n",
    "print(\"- Variance measures the average squared distance from the mean\")\n",
    "print(\"- Standard deviation (square root of variance) shows typical deviation in original units\")\n",
    "print(\"- For this dataset, values typically vary by about ±2.83 from the mean of 6\")\n",
    "print(\"- Lower values would indicate points clustered closer to the mean\")"
   ]
  }
 ],
 "metadata": {
  "kernelspec": {
   "display_name": "Python 3",
   "language": "python",
   "name": "python3"
  },
  "language_info": {
   "codemirror_mode": {
    "name": "ipython",
    "version": 3
   },
   "file_extension": ".py",
   "mimetype": "text/x-python",
   "name": "python",
   "nbconvert_exporter": "python",
   "pygments_lexer": "ipython3",
   "version": "3.12.6"
  }
 },
 "nbformat": 4,
 "nbformat_minor": 2
}
