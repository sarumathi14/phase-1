{
 "cells": [
  {
   "cell_type": "code",
   "execution_count": 1,
   "metadata": {},
   "outputs": [
    {
     "name": "stdout",
     "output_type": "stream",
     "text": [
      "Variable Types in the DataFrame:\n",
      "- Number of pets: Quantitative (discrete)\n",
      "- Blood type: Qualitative (nominal)\n",
      "- Weight in kg: Quantitative (continuous)\n",
      "- Satisfaction level: Qualitative (ordinal)\n",
      "\n",
      "DataFrame dtypes:\n",
      "Number of pets          int64\n",
      "Blood type             object\n",
      "Weight in kg          float64\n",
      "Satisfaction level     object\n",
      "dtype: object\n"
     ]
    }
   ],
   "source": [
    "import pandas as pd\n",
    "data = {\n",
    "    'Number of pets': [3, 0, 2, 1],  \n",
    "    'Blood type': ['A', 'B', 'O', 'AB'], \n",
    "    'Weight in kg': [68.5, 72.3, 65.0, 80.7], \n",
    "    'Satisfaction level': ['high', 'medium', 'low', 'medium']  \n",
    "}\n",
    "df = pd.DataFrame(data)\n",
    "print(\"Variable Types in the DataFrame:\")\n",
    "print(\"- Number of pets: Quantitative (discrete)\")\n",
    "print(\"- Blood type: Qualitative (nominal)\")\n",
    "print(\"- Weight in kg: Quantitative (continuous)\")\n",
    "print(\"- Satisfaction level: Qualitative (ordinal)\\n\")\n",
    "print(\"DataFrame dtypes:\")\n",
    "print(df.dtypes)"
   ]
  }
 ],
 "metadata": {
  "kernelspec": {
   "display_name": "Python 3",
   "language": "python",
   "name": "python3"
  },
  "language_info": {
   "codemirror_mode": {
    "name": "ipython",
    "version": 3
   },
   "file_extension": ".py",
   "mimetype": "text/x-python",
   "name": "python",
   "nbconvert_exporter": "python",
   "pygments_lexer": "ipython3",
   "version": "3.12.6"
  }
 },
 "nbformat": 4,
 "nbformat_minor": 2
}
