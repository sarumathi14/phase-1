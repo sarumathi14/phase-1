{
 "cells": [
  {
   "cell_type": "code",
   "execution_count": 1,
   "metadata": {},
   "outputs": [
    {
     "name": "stdout",
     "output_type": "stream",
     "text": [
      "Dataset: [ 1  2  3  4  5  6  7  8  9 20]\n",
      "Mean: 6.50\n",
      "Standard Deviation: 5.12\n",
      "\n",
      "Individual z-scores:\n",
      "Value 1: z = -1.07\n",
      "Value 2: z = -0.88\n",
      "Value 3: z = -0.68\n",
      "Value 4: z = -0.49\n",
      "Value 5: z = -0.29\n",
      "Value 6: z = -0.10\n",
      "Value 7: z = 0.10\n",
      "Value 8: z = 0.29\n",
      "Value 9: z = 0.49\n",
      "Value 20: z = 2.63\n",
      "\n",
      "No outliers detected at threshold |z| > 3\n",
      "Maximum z-score was 2.63 for value 20\n"
     ]
    }
   ],
   "source": [
    "import numpy as np\n",
    "data = np.array([1, 2, 3, 4, 5, 6, 7, 8, 9, 20])\n",
    "mean = np.mean(data)\n",
    "std_dev = np.std(data, ddof=0)  \n",
    "z_scores = (data - mean) / std_dev\n",
    "threshold = 3\n",
    "outliers = data[np.abs(z_scores) > threshold]\n",
    "print(f\"Dataset: {data}\")\n",
    "print(f\"Mean: {mean:.2f}\")\n",
    "print(f\"Standard Deviation: {std_dev:.2f}\\n\")\n",
    "print(\"Individual z-scores:\")\n",
    "for value, z in zip(data, z_scores):\n",
    "    print(f\"Value {value}: z = {z:.2f}\")\n",
    "if len(outliers) > 0:\n",
    "    print(f\"\\nOutliers detected (|z| > {threshold}): {outliers}\")\n",
    "else:\n",
    "    print(f\"\\nNo outliers detected at threshold |z| > {threshold}\")\n",
    "    print(f\"Maximum z-score was {np.max(np.abs(z_scores)):.2f} for value {data[np.argmax(np.abs(z_scores))]}\")"
   ]
  }
 ],
 "metadata": {
  "kernelspec": {
   "display_name": "Python 3",
   "language": "python",
   "name": "python3"
  },
  "language_info": {
   "codemirror_mode": {
    "name": "ipython",
    "version": 3
   },
   "file_extension": ".py",
   "mimetype": "text/x-python",
   "name": "python",
   "nbconvert_exporter": "python",
   "pygments_lexer": "ipython3",
   "version": "3.12.6"
  }
 },
 "nbformat": 4,
 "nbformat_minor": 2
}
