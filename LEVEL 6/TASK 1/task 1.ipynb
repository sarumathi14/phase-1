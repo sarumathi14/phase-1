{
 "cells": [
  {
   "cell_type": "code",
   "execution_count": 1,
   "metadata": {},
   "outputs": [
    {
     "name": "stdout",
     "output_type": "stream",
     "text": [
      "Descriptive Statistics Example: The average test score is 85.3%\n",
      "\n",
      "Inferential Statistics Example:\n",
      "We estimate that between 50.4% and 69.6% of the population prefers online shopping (95% confidence)\n"
     ]
    }
   ],
   "source": [
    "import numpy as np\n",
    "from scipy import stats\n",
    "test_scores = [78, 85, 92, 88, 76, 90, 84, 82, 87, 91]\n",
    "mean_score = np.mean(test_scores)\n",
    "print(f\"Descriptive Statistics Example: The average test score is {mean_score:.1f}%\")\n",
    "n = 100\n",
    "p = 0.6\n",
    "confidence_level = 0.95\n",
    "std_err = np.sqrt(p * (1 - p) / n)\n",
    "margin_of_error = stats.norm.ppf((1 + confidence_level)/2) * std_err\n",
    "ci_lower = p - margin_of_error\n",
    "ci_upper = p + margin_of_error\n",
    "print(f\"\\nInferential Statistics Example:\")\n",
    "print(f\"We estimate that between {ci_lower:.1%} and {ci_upper:.1%} of the population prefers online shopping (95% confidence)\")"
   ]
  }
 ],
 "metadata": {
  "kernelspec": {
   "display_name": "Python 3",
   "language": "python",
   "name": "python3"
  },
  "language_info": {
   "codemirror_mode": {
    "name": "ipython",
    "version": 3
   },
   "file_extension": ".py",
   "mimetype": "text/x-python",
   "name": "python",
   "nbconvert_exporter": "python",
   "pygments_lexer": "ipython3",
   "version": "3.12.6"
  }
 },
 "nbformat": 4,
 "nbformat_minor": 2
}
