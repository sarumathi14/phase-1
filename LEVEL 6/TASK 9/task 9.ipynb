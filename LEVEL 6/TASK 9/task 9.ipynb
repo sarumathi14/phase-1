{
 "cells": [
  {
   "cell_type": "code",
   "execution_count": 1,
   "metadata": {},
   "outputs": [
    {
     "name": "stdout",
     "output_type": "stream",
     "text": [
      "Percentage of scores above 4.25:\n",
      "Using z-score (z=0.25): 40.13%\n",
      "Using raw score directly: 40.13%\n",
      "\n",
      "Interpretation:\n",
      "• A score of 4.25 is 0.25 standard deviations above the mean\n",
      "• About 40.1% of values are higher than this\n",
      "• This means it's a fairly common value in the distribution\n"
     ]
    }
   ],
   "source": [
    "from scipy.stats import norm\n",
    "mean = 4\n",
    "std_dev = 1\n",
    "cutoff = 4.25\n",
    "z_score = (cutoff - mean) / std_dev\n",
    "percentage_above = norm.sf(z_score) * 100  \n",
    "percentage_above_raw = norm.sf(cutoff, loc=mean, scale=std_dev) * 100\n",
    "print(f\"Percentage of scores above {cutoff}:\")\n",
    "print(f\"Using z-score (z={z_score:.2f}): {percentage_above:.2f}%\")\n",
    "print(f\"Using raw score directly: {percentage_above_raw:.2f}%\")\n",
    "print(\"\\nInterpretation:\")\n",
    "print(f\"• A score of {cutoff} is {z_score:.2f} standard deviations above the mean\")\n",
    "print(f\"• About {percentage_above:.1f}% of values are higher than this\")\n",
    "print(\"• This means it's a fairly common value in the distribution\")"
   ]
  }
 ],
 "metadata": {
  "kernelspec": {
   "display_name": "Python 3",
   "language": "python",
   "name": "python3"
  },
  "language_info": {
   "codemirror_mode": {
    "name": "ipython",
    "version": 3
   },
   "file_extension": ".py",
   "mimetype": "text/x-python",
   "name": "python",
   "nbconvert_exporter": "python",
   "pygments_lexer": "ipython3",
   "version": "3.12.6"
  }
 },
 "nbformat": 4,
 "nbformat_minor": 2
}
