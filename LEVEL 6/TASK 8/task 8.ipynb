{
 "cells": [
  {
   "cell_type": "code",
   "execution_count": 1,
   "metadata": {},
   "outputs": [
    {
     "name": "stdout",
     "output_type": "stream",
     "text": [
      "Empirical Rule Estimation: ~68% between 85 and 115\n",
      "Exact calculation: 68.27% of data\n",
      "\n",
      "Verification of Empirical Rule:\n",
      "μ ± 1σ: 85.0 to 115.0 → ~68%\n",
      "μ ± 2σ: 70.0 to 130.0 → ~95%\n",
      "μ ± 3σ: 55.0 to 145.0 → ~99.7%\n"
     ]
    }
   ],
   "source": [
    "import numpy as np\n",
    "from scipy.stats import norm\n",
    "mu = 100\n",
    "sigma = 15\n",
    "lower_bound = 85\n",
    "upper_bound = 115\n",
    "prob = norm.cdf(upper_bound, mu, sigma) - norm.cdf(lower_bound, mu, sigma)\n",
    "print(f\"Empirical Rule Estimation: ~68% between {lower_bound} and {upper_bound}\")\n",
    "print(f\"Exact calculation: {prob:.2%} of data\")\n",
    "print(\"\\nVerification of Empirical Rule:\")\n",
    "print(f\"μ ± 1σ: {mu-sigma:.1f} to {mu+sigma:.1f} → ~68%\")\n",
    "print(f\"μ ± 2σ: {mu-2*sigma:.1f} to {mu+2*sigma:.1f} → ~95%\")\n",
    "print(f\"μ ± 3σ: {mu-3*sigma:.1f} to {mu+3*sigma:.1f} → ~99.7%\")"
   ]
  }
 ],
 "metadata": {
  "kernelspec": {
   "display_name": "Python 3",
   "language": "python",
   "name": "python3"
  },
  "language_info": {
   "codemirror_mode": {
    "name": "ipython",
    "version": 3
   },
   "file_extension": ".py",
   "mimetype": "text/x-python",
   "name": "python",
   "nbconvert_exporter": "python",
   "pygments_lexer": "ipython3",
   "version": "3.12.6"
  }
 },
 "nbformat": 4,
 "nbformat_minor": 2
}
