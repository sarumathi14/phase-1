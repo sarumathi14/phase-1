{
 "cells": [
  {
   "cell_type": "code",
   "execution_count": 1,
   "metadata": {},
   "outputs": [
    {
     "name": "stdout",
     "output_type": "stream",
     "text": [
      "Population: All 10,000 families in the city\n",
      "Population mean income: $74.98k\n",
      "\n",
      "Sample: 100 surveyed households\n",
      "Sample mean income: $77.38k\n",
      "\n",
      "Difference between sample estimate and population parameter: $2.41k (3.2% error)\n"
     ]
    }
   ],
   "source": [
    "import pandas as pd\n",
    "import numpy as np\n",
    "population_size = 10000\n",
    "np.random.seed(42)\n",
    "population_incomes = np.random.normal(loc=75, scale=20, size=population_size)\n",
    "population_incomes = np.round(np.clip(population_incomes, 20, 150), 2)\n",
    "sample_size = 100\n",
    "sample = np.random.choice(population_incomes, size=sample_size, replace=False)\n",
    "population_mean = np.mean(population_incomes)\n",
    "sample_mean = np.mean(sample)\n",
    "print(f\"Population: All {population_size:,} families in the city\")\n",
    "print(f\"Population mean income: ${population_mean:,.2f}k\\n\")\n",
    "print(f\"Sample: {sample_size} surveyed households\")\n",
    "print(f\"Sample mean income: ${sample_mean:,.2f}k\\n\")\n",
    "print(f\"Difference between sample estimate and population parameter: \"\n",
    "      f\"${abs(sample_mean - population_mean):.2f}k \"\n",
    "      f\"({abs((sample_mean - population_mean)/population_mean)*100:.1f}% error)\")"
   ]
  }
 ],
 "metadata": {
  "kernelspec": {
   "display_name": "Python 3",
   "language": "python",
   "name": "python3"
  },
  "language_info": {
   "codemirror_mode": {
    "name": "ipython",
    "version": 3
   },
   "file_extension": ".py",
   "mimetype": "text/x-python",
   "name": "python",
   "nbconvert_exporter": "python",
   "pygments_lexer": "ipython3",
   "version": "3.12.6"
  }
 },
 "nbformat": 4,
 "nbformat_minor": 2
}
