{
 "cells": [
  {
   "cell_type": "code",
   "execution_count": 1,
   "metadata": {},
   "outputs": [
    {
     "name": "stdout",
     "output_type": "stream",
     "text": [
      "Dataset: [3, 5, 5, 6, 7, 100]\n",
      "\n",
      "Mean: 21.0\n",
      "Median: 5.5\n",
      "Mode: 5\n",
      "\n",
      "Interpretation:\n",
      "The mean is significantly higher than the median and mode due to the outlier (100).\n",
      "Median and mode (5.5 and 5 respectively) better represent the 'typical' value\n",
      "in this dataset as they are less affected by extreme values.\n"
     ]
    }
   ],
   "source": [
    "import numpy as np\n",
    "from scipy import stats\n",
    "data = [3, 5, 5, 6, 7, 100]\n",
    "mean = np.mean(data)\n",
    "median = np.median(data)\n",
    "mode = stats.mode(data, keepdims=True).mode[0]\n",
    "print(f\"Dataset: {data}\\n\")\n",
    "print(f\"Mean: {mean:.1f}\")\n",
    "print(f\"Median: {median:.1f}\")\n",
    "print(f\"Mode: {mode}\\n\")\n",
    "print(\"Interpretation:\")\n",
    "print(\"The mean is significantly higher than the median and mode due to the outlier (100).\")\n",
    "print(\"Median and mode (5.5 and 5 respectively) better represent the 'typical' value\")\n",
    "print(\"in this dataset as they are less affected by extreme values.\")"
   ]
  }
 ],
 "metadata": {
  "kernelspec": {
   "display_name": "Python 3",
   "language": "python",
   "name": "python3"
  },
  "language_info": {
   "codemirror_mode": {
    "name": "ipython",
    "version": 3
   },
   "file_extension": ".py",
   "mimetype": "text/x-python",
   "name": "python",
   "nbconvert_exporter": "python",
   "pygments_lexer": "ipython3",
   "version": "3.12.6"
  }
 },
 "nbformat": 4,
 "nbformat_minor": 2
}
