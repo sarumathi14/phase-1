{
 "cells": [
  {
   "cell_type": "code",
   "execution_count": 0,
   "metadata": {
    "application/vnd.databricks.v1+cell": {
     "cellMetadata": {
      "byteLimit": 2048000,
      "rowLimit": 10000
     },
     "inputWidgets": {},
     "nuid": "b2def94e-3bcb-445c-91ea-7f8c8aeac59e",
     "showTitle": false,
     "tableResultSettingsMap": {},
     "title": ""
    }
   },
   "outputs": [
    {
     "output_type": "stream",
     "name": "stdout",
     "output_type": "stream",
     "text": [
      "+-------------------+-------------------+----------+--------+\n|timestamp_str      |timestamp          |date      |time    |\n+-------------------+-------------------+----------+--------+\n|2023-05-15 14:30:45|2023-05-15 14:30:45|2023-05-15|14:30:45|\n|2023-06-20 09:15:22|2023-06-20 09:15:22|2023-06-20|09:15:22|\n|2023-07-25 18:45:10|2023-07-25 18:45:10|2023-07-25|18:45:10|\n+-------------------+-------------------+----------+--------+\n\n"
     ]
    }
   ],
   "source": [
    "from pyspark.sql import SparkSession\n",
    "from pyspark.sql.functions import col, date_format, to_timestamp\n",
    "spark = SparkSession.builder.appName(\"DateTimeHandling\").getOrCreate()\n",
    "data = [(\"2023-05-15 14:30:45\",),\n",
    "        (\"2023-06-20 09:15:22\",),\n",
    "        (\"2023-07-25 18:45:10\",)]\n",
    "df = spark.createDataFrame(data, [\"timestamp_str\"])\n",
    "df = df.withColumn(\"timestamp\", to_timestamp(col(\"timestamp_str\")))\n",
    "\n",
    "df = df.withColumn(\"date\", date_format(col(\"timestamp\"), \"yyyy-MM-dd\")) \\\n",
    "       .withColumn(\"time\", date_format(col(\"timestamp\"), \"HH:mm:ss\"))\n",
    "\n",
    "df.show(truncate=False)"
   ]
  }
 ],
 "metadata": {
  "application/vnd.databricks.v1+notebook": {
   "computePreferences": null,
   "dashboards": [],
   "environmentMetadata": {
    "base_environment": "",
    "environment_version": "2"
   },
   "inputWidgetPreferences": null,
   "language": "python",
   "notebookMetadata": {
    "pythonIndentUnit": 4
   },
   "notebookName": "task 1.ipynb",
   "widgets": {}
  },
  "language_info": {
   "name": "python"
  }
 },
 "nbformat": 4,
 "nbformat_minor": 0
}