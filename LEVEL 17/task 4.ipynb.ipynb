{
 "cells": [
  {
   "cell_type": "code",
   "execution_count": 0,
   "metadata": {
    "application/vnd.databricks.v1+cell": {
     "cellMetadata": {
      "byteLimit": 2048000,
      "rowLimit": 10000
     },
     "inputWidgets": {},
     "nuid": "570a0782-ddb1-42ec-8015-c622117dd9c8",
     "showTitle": false,
     "tableResultSettingsMap": {},
     "title": ""
    }
   },
   "outputs": [],
   "source": [
    "from pyspark.sql import SparkSession\n",
    "from pyspark.sql.functions import regexp_extract, col, split\n",
    "\n",
    "spark = SparkSession.builder.appName(\"StringManipulation\").getOrCreate()\n",
    "\n",
    "commentary_data = [\n",
    "    (1, \"Rohit Sharma hits 4 runs off Jasprit Bumrah\"),\n",
    "    (2, \"Virat Kohli bowled by Yuzvendra Chahal for 0\"),\n",
    "    (3, \"MS Dhoni scores 6 runs against Ravindra Jadeja\"),\n",
    "    (4, \"KL Rahul takes 1 run from Mohammed Shami\"),\n",
    "    (5, \"David Warner caught by Rashid Khan off his own bowling, 2 runs\"),\n",
    "    (6, \"Shikhar Dhawan lbw b Bhuvneshwar Kumar\"),\n",
    "    (7, \"Suryakumar Yadav edges 4 runs through slips off Trent Boult\")\n",
    "]\n",
    "\n",
    "columns = [\"ball_id\", \"commentary\"]\n",
    "df = spark.createDataFrame(commentary_data, columns)\n",
    "df = df.withColumn(\"runs\", \n",
    "                 regexp_extract(col(\"commentary\"), r\"(\\d+)\\s*run\", 1).cast(\"int\"))\n",
    "\n",
    "df = df.withColumn(\"batsman\", \n",
    "                 regexp_extract(col(\"commentary\"), r\"^([A-Za-z\\s]+)\\s+(hits|scores|takes|bowled|caught|lbw|edges)\", 1))\n",
    "df = df.withColumn(\"bowler_temp\", \n",
    "                 regexp_extract(col(\"commentary\"), r\"(?:by|off|b|against)\\s([A-Za-z\\s]+)(?:\\s*for|,|\\s*$)\", 1))\n",
    "\n",
    "df = df.withColumn(\"bowler\", \n",
    "                 regexp_extract(col(\"bowler_temp\"), r\"^([A-Za-z\\s]+?)(?:\\s+own|\\s*$)\", 1))\n",
    "\n",
    "result_df = df.select(\"ball_id\", \"commentary\", \"runs\", \"batsman\", \"bowler\")\n",
    "\n",
    "spark.stop()"
   ]
  }
 ],
 "metadata": {
  "application/vnd.databricks.v1+notebook": {
   "computePreferences": null,
   "dashboards": [],
   "environmentMetadata": {
    "base_environment": "",
    "environment_version": "2"
   },
   "inputWidgetPreferences": null,
   "language": "python",
   "notebookMetadata": {
    "pythonIndentUnit": 4
   },
   "notebookName": "task 4.ipynb",
   "widgets": {}
  },
  "language_info": {
   "name": "python"
  }
 },
 "nbformat": 4,
 "nbformat_minor": 0
}