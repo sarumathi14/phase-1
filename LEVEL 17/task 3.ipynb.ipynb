{
 "cells": [
  {
   "cell_type": "code",
   "execution_count": 0,
   "metadata": {
    "application/vnd.databricks.v1+cell": {
     "cellMetadata": {
      "byteLimit": 2048000,
      "rowLimit": 10000
     },
     "inputWidgets": {},
     "nuid": "35600503-56e4-4b5b-ab26-a7d81e4d442a",
     "showTitle": false,
     "tableResultSettingsMap": {},
     "title": ""
    }
   },
   "outputs": [
    {
     "output_type": "stream",
     "name": "stdout",
     "output_type": "stream",
     "text": [
      "=== Distinct Tie-Breakers ===\n+--------------+\n|tie_breaker   |\n+--------------+\n|Super Over    |\n|Boundary Count|\n|Head-to-Head  |\n+--------------+\n\n\n=== Tie-Breaker Frequency ===\n+--------------+-----+\n|tie_breaker   |count|\n+--------------+-----+\n|Super Over    |4    |\n|Boundary Count|2    |\n|Head-to-Head  |2    |\n+--------------+-----+\n\n\n=== Tie-Breakers with Additional Info ===\n"
     ]
    }
   ],
   "source": [
    "from pyspark.sql import SparkSession\n",
    "from pyspark.sql.functions import col\n",
    "\n",
    "spark = SparkSession.builder.appName(\"Deduplication\").getOrCreate()\n",
    "match_data = [\n",
    "    (1, \"MI vs CSK\", \"Super Over\", \"2020-05-10\"),\n",
    "    (2, \"RCB vs KKR\", \"Boundary Count\", \"2019-04-15\"),\n",
    "    (3, \"DC vs SRH\", \"Super Over\", \"2021-05-02\"),\n",
    "    (4, \"RR vs PBKS\", \"Head-to-Head\", \"2022-04-18\"),\n",
    "    (5, \"LSG vs GT\", \"Super Over\", \"2023-05-07\"),\n",
    "    (6, \"MI vs RCB\", \"Boundary Count\", \"2018-04-12\"),\n",
    "    (7, \"KKR vs DC\", \"Super Over\", \"2020-04-20\"),\n",
    "    (8, \"CSK vs RR\", \"Head-to-Head\", \"2021-04-25\")\n",
    "]\n",
    "\n",
    "columns = [\"match_id\", \"teams\", \"tie_breaker\", \"date\"]\n",
    "matches_df = spark.createDataFrame(match_data, columns)\n",
    "\n",
    "distinct_tie_breakers = matches_df.select(\"tie_breaker\").distinct()\n",
    "\n",
    "tie_breaker_counts = matches_df.groupBy(\"tie_breaker\").count()\n",
    "print(\"=== Distinct Tie-Breakers ===\")\n",
    "distinct_tie_breakers.show(truncate=False)\n",
    "\n",
    "print(\"\\n=== Tie-Breaker Frequency ===\")\n",
    "tie_breaker_counts.show(truncate=False)\n",
    "\n",
    "print(\"\\n=== Tie-Breakers with Additional Info ===\")\n",
    "\n",
    "spark.stop()"
   ]
  }
 ],
 "metadata": {
  "application/vnd.databricks.v1+notebook": {
   "computePreferences": null,
   "dashboards": [],
   "environmentMetadata": {
    "base_environment": "",
    "environment_version": "2"
   },
   "inputWidgetPreferences": null,
   "language": "python",
   "notebookMetadata": {
    "pythonIndentUnit": 4
   },
   "notebookName": "task 3.ipynb",
   "widgets": {}
  },
  "language_info": {
   "name": "python"
  }
 },
 "nbformat": 4,
 "nbformat_minor": 0
}