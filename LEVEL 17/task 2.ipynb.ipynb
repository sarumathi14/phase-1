{
 "cells": [
  {
   "cell_type": "code",
   "execution_count": 0,
   "metadata": {
    "application/vnd.databricks.v1+cell": {
     "cellMetadata": {
      "byteLimit": 2048000,
      "rowLimit": 10000
     },
     "inputWidgets": {},
     "nuid": "058b0e2b-5e3f-42f7-811d-6d22a207fe6d",
     "showTitle": false,
     "tableResultSettingsMap": {},
     "title": ""
    }
   },
   "outputs": [
    {
     "output_type": "stream",
     "name": "stdout",
     "output_type": "stream",
     "text": [
      "=== Standard Union (position-based) ===\n+--------+---------+----+-------+---------------+-------+\n|match_id|over_rate|runs|wickets|commentary_text|outcome|\n+--------+---------+----+-------+---------------+-------+\n|       1|     NULL|NULL|   NULL|           NULL|   NULL|\n|       2|     NULL|NULL|   NULL|           NULL|   NULL|\n|       3|     NULL|NULL|   NULL|           NULL|   NULL|\n|       1|     12.4|   4|      1|           NULL|   NULL|\n|       2|     13.2|   0|      1|           NULL|   NULL|\n|       3|     14.1|   6|      0|           NULL|   NULL|\n+--------+---------+----+-------+---------------+-------+\n\n\n=== Union by Name (Spark 3.1+) ===\n+--------+--------------------+-------+---------+----+-------+\n|match_id|     commentary_text|outcome|over_rate|runs|wickets|\n+--------+--------------------+-------+---------+----+-------+\n|       1|Great shot by Kohli!| 4 runs|     NULL|NULL|   NULL|\n|       2|         Bowled him!| Wicket|     NULL|NULL|   NULL|\n|       3|   Six over long-on!| 6 runs|     NULL|NULL|   NULL|\n|       1|                NULL|   NULL|     12.4|   4|      1|\n|       2|                NULL|   NULL|     13.2|   0|      1|\n|       3|                NULL|   NULL|     14.1|   6|      0|\n+--------+--------------------+-------+---------+----+-------+\n\n"
     ]
    }
   ],
   "source": [
    "from pyspark.sql import SparkSession\n",
    "from pyspark.sql.functions import lit\n",
    "\n",
    "spark = SparkSession.builder.appName(\"UnionOperations\").getOrCreate()\n",
    "\n",
    "commentary_data = [\n",
    "    (1, \"Great shot by Kohli!\", \"4 runs\"),\n",
    "    (2, \"Bowled him!\", \"Wicket\"),\n",
    "    (3, \"Six over long-on!\", \"6 runs\")\n",
    "]\n",
    "over_data = [\n",
    "    (1, 12.4, 4, 1),\n",
    "    (2, 13.2, 0, 1),\n",
    "    (3, 14.1, 6, 0)\n",
    "]\n",
    "commentary_df = spark.createDataFrame(\n",
    "    commentary_data,\n",
    "    [\"match_id\", \"commentary_text\", \"outcome\"]\n",
    ")\n",
    "\n",
    "over_df = spark.createDataFrame(\n",
    "    over_data,\n",
    "    [\"match_id\", \"over_rate\", \"runs\", \"wickets\"]\n",
    ")\n",
    "\n",
    "commentary_for_union = commentary_df.withColumn(\"over_rate\", lit(None).cast(\"double\")) \\\n",
    "                                   .withColumn(\"runs\", lit(None).cast(\"int\")) \\\n",
    "                                   .withColumn(\"wickets\", lit(None).cast(\"int\")) \\\n",
    "                                   .withColumn(\"commentary_text\", lit(None).cast(\"string\")) \\\n",
    "                                   .withColumn(\"outcome\", lit(None).cast(\"string\"))\n",
    "over_for_union = over_df.withColumn(\"commentary_text\", lit(None).cast(\"string\")) \\\n",
    "                        .withColumn(\"outcome\", lit(None).cast(\"string\"))\n",
    "union_df = commentary_for_union.select(\"match_id\", \"over_rate\", \"runs\", \"wickets\", \"commentary_text\", \"outcome\") \\\n",
    "                              .union(over_for_union.select(\"match_id\", \"over_rate\", \"runs\", \"wickets\", \"commentary_text\", \"outcome\"))\n",
    "union_by_name_df = commentary_df.unionByName(over_df, allowMissingColumns=True)\n",
    "\n",
    "print(\"=== Standard Union (position-based) ===\")\n",
    "union_df.show()\n",
    "\n",
    "print(\"\\n=== Union by Name (Spark 3.1+) ===\")\n",
    "union_by_name_df.show()\n",
    "spark.stop()"
   ]
  }
 ],
 "metadata": {
  "application/vnd.databricks.v1+notebook": {
   "computePreferences": null,
   "dashboards": [],
   "environmentMetadata": {
    "base_environment": "",
    "environment_version": "2"
   },
   "inputWidgetPreferences": null,
   "language": "python",
   "notebookMetadata": {
    "pythonIndentUnit": 4
   },
   "notebookName": "task 2.ipynb",
   "widgets": {}
  },
  "language_info": {
   "name": "python"
  }
 },
 "nbformat": 4,
 "nbformat_minor": 0
}