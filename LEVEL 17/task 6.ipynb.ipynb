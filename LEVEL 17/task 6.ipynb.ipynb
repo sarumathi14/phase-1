{
 "cells": [
  {
   "cell_type": "code",
   "execution_count": 0,
   "metadata": {
    "application/vnd.databricks.v1+cell": {
     "cellMetadata": {
      "byteLimit": 2048000,
      "rowLimit": 10000
     },
     "inputWidgets": {},
     "nuid": "0d73e220-9129-4c99-ae22-bde45a49ef59",
     "showTitle": false,
     "tableResultSettingsMap": {},
     "title": ""
    }
   },
   "outputs": [
    {
     "output_type": "stream",
     "name": "stdout",
     "output_type": "stream",
     "text": [
      "=== Average Scores by Team and Year ===\n+----+-----+-----+-----+-----+\n|team| 2008| 2009| 2010| 2011|\n+----+-----+-----+-----+-----+\n| CSK|205.0|185.0|187.0|196.0|\n|  MI|180.0|198.0|215.0|191.5|\n| RCB|165.0|185.0|185.5|174.0|\n+----+-----+-----+-----+-----+\n\n\n=== Maximum Scores by Team and Year ===\n+----+----+----+----+----+\n|team|2008|2009|2010|2011|\n+----+----+----+----+----+\n| CSK| 205| 192| 187| 196|\n|  MI| 188| 198| 215| 201|\n| RCB| 165| 185| 203| 174|\n+----+----+----+----+----+\n\n"
     ]
    }
   ],
   "source": [
    "from pyspark.sql import SparkSession\n",
    "from pyspark.sql.functions import avg, max\n",
    "spark = SparkSession.builder.appName(\"IPLPivotAnalysis\").getOrCreate()\n",
    "data = [\n",
    "    (2008, \"MI\", 188),\n",
    "    (2008, \"CSK\", 205),\n",
    "    (2008, \"RCB\", 165),\n",
    "    (2008, \"MI\", 172),\n",
    "    (2009, \"CSK\", 192),\n",
    "    (2009, \"RCB\", 185),\n",
    "    (2009, \"MI\", 198),\n",
    "    (2009, \"CSK\", 178),\n",
    "    (2010, \"RCB\", 203),\n",
    "    (2010, \"MI\", 215),\n",
    "    (2010, \"CSK\", 187),\n",
    "    (2010, \"RCB\", 168),\n",
    "    (2011, \"MI\", 182),\n",
    "    (2011, \"CSK\", 196),\n",
    "    (2011, \"RCB\", 174),\n",
    "    (2011, \"MI\", 201)\n",
    "]\n",
    "columns = [\"year\", \"team\", \"score\"]\n",
    "df = spark.createDataFrame(data, columns)\n",
    "avg_pivot = df.groupBy(\"team\").pivot(\"year\").agg(\n",
    "    avg(\"score\").alias(\"avg_score\")\n",
    ").orderBy(\"team\")\n",
    "max_pivot = df.groupBy(\"team\").pivot(\"year\").agg(\n",
    "    max(\"score\").alias(\"max_score\")\n",
    ").orderBy(\"team\")\n",
    "print(\"=== Average Scores by Team and Year ===\")\n",
    "avg_pivot.show()\n",
    "\n",
    "print(\"\\n=== Maximum Scores by Team and Year ===\")\n",
    "max_pivot.show()\n",
    "spark.stop()"
   ]
  }
 ],
 "metadata": {
  "application/vnd.databricks.v1+notebook": {
   "computePreferences": null,
   "dashboards": [],
   "environmentMetadata": {
    "base_environment": "",
    "environment_version": "2"
   },
   "inputWidgetPreferences": null,
   "language": "python",
   "notebookMetadata": {
    "pythonIndentUnit": 4
   },
   "notebookName": "task 6.ipynb",
   "widgets": {}
  },
  "language_info": {
   "name": "python"
  }
 },
 "nbformat": 4,
 "nbformat_minor": 0
}