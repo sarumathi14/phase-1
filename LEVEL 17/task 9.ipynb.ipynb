{
 "cells": [
  {
   "cell_type": "code",
   "execution_count": 0,
   "metadata": {
    "application/vnd.databricks.v1+cell": {
     "cellMetadata": {
      "byteLimit": 2048000,
      "rowLimit": 10000
     },
     "inputWidgets": {},
     "nuid": "7298156d-2375-483f-9708-3e22806f0d87",
     "showTitle": false,
     "tableResultSettingsMap": {},
     "title": ""
    }
   },
   "outputs": [
    {
     "output_type": "stream",
     "name": "stdout",
     "output_type": "stream",
     "text": [
      "+--------+----+----+----+---------------+\n|match_id|over|ball|runs|cumulative_runs|\n+--------+----+----+----+---------------+\n|       1|   1|   1|   4|              4|\n|       1|   1|   2|   0|              4|\n|       1|   1|   3|   1|              5|\n|       1|   1|   4|   6|             11|\n|       1|   1|   5|   2|             13|\n|       1|   1|   6|   0|             13|\n|       1|   2|   1|   1|             14|\n|       1|   2|   2|   4|             18|\n|       1|   2|   3|   0|             18|\n|       1|   2|   4|   2|             20|\n+--------+----+----+----+---------------+\n\n"
     ]
    }
   ],
   "source": [
    "from pyspark.sql import SparkSession\n",
    "from pyspark.sql.window import Window\n",
    "from pyspark.sql.functions import sum\n",
    "spark = SparkSession.builder.appName(\"WindowFunctions\").getOrCreate()\n",
    "data = [\n",
    "    (1, 1, 1, 4), \n",
    "    (1, 1, 2, 0),\n",
    "    (1, 1, 3, 1),\n",
    "    (1, 1, 4, 6),\n",
    "    (1, 1, 5, 2),\n",
    "    (1, 1, 6, 0),\n",
    "    (1, 2, 1, 1),\n",
    "    (1, 2, 2, 4),\n",
    "    (1, 2, 3, 0),\n",
    "    (1, 2, 4, 2)\n",
    "]\n",
    "columns = [\"match_id\", \"over\", \"ball\", \"runs\"]\n",
    "df = spark.createDataFrame(data, columns)\n",
    "windowSpec = Window.partitionBy(\"match_id\") \\\n",
    "                  .orderBy(\"over\", \"ball\") \\\n",
    "                  .rowsBetween(Window.unboundedPreceding, Window.currentRow)\n",
    "df_with_cumulative = df.withColumn(\"cumulative_runs\", sum(\"runs\").over(windowSpec))\n",
    "df_with_cumulative.show()"
   ]
  }
 ],
 "metadata": {
  "application/vnd.databricks.v1+notebook": {
   "computePreferences": null,
   "dashboards": [],
   "environmentMetadata": {
    "base_environment": "",
    "environment_version": "2"
   },
   "inputWidgetPreferences": null,
   "language": "python",
   "notebookMetadata": {
    "pythonIndentUnit": 4
   },
   "notebookName": "task 9.ipynb",
   "widgets": {}
  },
  "language_info": {
   "name": "python"
  }
 },
 "nbformat": 4,
 "nbformat_minor": 0
}