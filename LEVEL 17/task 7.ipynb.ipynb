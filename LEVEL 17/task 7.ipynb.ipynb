{
 "cells": [
  {
   "cell_type": "code",
   "execution_count": 0,
   "metadata": {
    "application/vnd.databricks.v1+cell": {
     "cellMetadata": {
      "byteLimit": 2048000,
      "rowLimit": 10000
     },
     "inputWidgets": {},
     "nuid": "33ab7472-7556-41df-8f54-463139524518",
     "showTitle": false,
     "tableResultSettingsMap": {},
     "title": ""
    }
   },
   "outputs": [
    {
     "output_type": "stream",
     "name": "stdout",
     "output_type": "stream",
     "text": [
      "=== Match Count Verification ===\n+------------------+-----------+\n|join_type         |match_count|\n+------------------+-----------+\n|Commentary dataset|4          |\n|Over dataset      |4          |\n|INNER JOIN        |3          |\n|LEFT JOIN         |4          |\n|RIGHT JOIN        |4          |\n|FULL JOIN         |5          |\n+------------------+-----------+\n\n\n=== Sample INNER JOIN Results ===\n+--------+----------+----------+----------------+\n|match_id|match_name|      date|           teams|\n+--------+----------+----------+----------------+\n|       1|   Match 1|2023-01-01|Team A vs Team B|\n|       2|   Match 2|2023-01-02|Team C vs Team D|\n|       3|   Match 3|2023-01-03|Team E vs Team F|\n+--------+----------+----------+----------------+\n\n\n=== Sample LEFT JOIN Results (showing non-matches) ===\n+--------+----------+----------+-----+\n|match_id|match_name|      date|teams|\n+--------+----------+----------+-----+\n|       4|   Match 4|2023-01-04| NULL|\n+--------+----------+----------+-----+\n\n\n=== Sample RIGHT JOIN Results (showing non-matches) ===\n+--------+----------+----+----------------+\n|match_id|match_name|date|           teams|\n+--------+----------+----+----------------+\n|       5|      NULL|NULL|Team G vs Team H|\n+--------+----------+----+----------------+\n\n"
     ]
    }
   ],
   "source": [
    "from pyspark.sql import SparkSession\n",
    "from pyspark.sql.functions import countDistinct\n",
    "spark = SparkSession.builder.appName(\"JoinVerification\").getOrCreate()\n",
    "commentary_data = [\n",
    "    (1, \"Match 1\", \"2023-01-01\"),\n",
    "    (2, \"Match 2\", \"2023-01-02\"),\n",
    "    (3, \"Match 3\", \"2023-01-03\"),\n",
    "    (4, \"Match 4\", \"2023-01-04\")  ]\n",
    "over_data = [\n",
    "    (1, \"Team A vs Team B\"),\n",
    "    (2, \"Team C vs Team D\"),\n",
    "    (3, \"Team E vs Team F\"),\n",
    "    (5, \"Team G vs Team H\") ]\n",
    "commentary_df = spark.createDataFrame(\n",
    "    commentary_data,\n",
    "    [\"match_id\", \"match_name\", \"date\"]\n",
    ")\n",
    "\n",
    "over_df = spark.createDataFrame(\n",
    "    over_data,\n",
    "    [\"match_id\", \"teams\"]\n",
    ")\n",
    "inner_join = commentary_df.join(\n",
    "    over_df,\n",
    "    \"match_id\",\n",
    "    \"inner\"\n",
    ")\n",
    "\n",
    "left_join = commentary_df.join(\n",
    "    over_df,\n",
    "    \"match_id\",\n",
    "    \"left\"\n",
    ")\n",
    "\n",
    "right_join = commentary_df.join(\n",
    "    over_df,\n",
    "    \"match_id\",\n",
    "    \"right\"\n",
    ")\n",
    "\n",
    "full_join = commentary_df.join(\n",
    "    over_df,\n",
    "    \"match_id\",\n",
    "    \"full\"\n",
    ")\n",
    "commentary_count = commentary_df.select(countDistinct(\"match_id\")).collect()[0][0]\n",
    "over_count = over_df.select(countDistinct(\"match_id\")).collect()[0][0]\n",
    "inner_count = inner_join.select(countDistinct(\"match_id\")).collect()[0][0]\n",
    "left_count = left_join.select(countDistinct(\"match_id\")).collect()[0][0]\n",
    "right_count = right_join.select(countDistinct(\"match_id\")).collect()[0][0]\n",
    "full_count = full_join.select(countDistinct(\"match_id\")).collect()[0][0]\n",
    "results = [\n",
    "    (\"Commentary dataset\", commentary_count),\n",
    "    (\"Over dataset\", over_count),\n",
    "    (\"INNER JOIN\", inner_count),\n",
    "    (\"LEFT JOIN\", left_count),\n",
    "    (\"RIGHT JOIN\", right_count),\n",
    "    (\"FULL JOIN\", full_count)\n",
    "]\n",
    "\n",
    "results_df = spark.createDataFrame(\n",
    "    results,\n",
    "    [\"join_type\", \"match_count\"]\n",
    ")\n",
    "print(\"=== Match Count Verification ===\")\n",
    "results_df.show(truncate=False)\n",
    "\n",
    "print(\"\\n=== Sample INNER JOIN Results ===\")\n",
    "inner_join.show()\n",
    "\n",
    "print(\"\\n=== Sample LEFT JOIN Results (showing non-matches) ===\")\n",
    "left_join.filter(\"teams IS NULL\").show()\n",
    "\n",
    "print(\"\\n=== Sample RIGHT JOIN Results (showing non-matches) ===\")\n",
    "right_join.filter(\"match_name IS NULL\").show()\n",
    "spark.stop()"
   ]
  }
 ],
 "metadata": {
  "application/vnd.databricks.v1+notebook": {
   "computePreferences": null,
   "dashboards": [],
   "environmentMetadata": {
    "base_environment": "",
    "environment_version": "2"
   },
   "inputWidgetPreferences": null,
   "language": "python",
   "notebookMetadata": {
    "pythonIndentUnit": 4
   },
   "notebookName": "task 7.ipynb",
   "widgets": {}
  },
  "language_info": {
   "name": "python"
  }
 },
 "nbformat": 4,
 "nbformat_minor": 0
}