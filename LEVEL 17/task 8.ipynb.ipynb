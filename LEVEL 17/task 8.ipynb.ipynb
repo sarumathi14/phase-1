{
 "cells": [
  {
   "cell_type": "code",
   "execution_count": 0,
   "metadata": {
    "application/vnd.databricks.v1+cell": {
     "cellMetadata": {
      "byteLimit": 2048000,
      "rowLimit": 10000
     },
     "inputWidgets": {},
     "nuid": "b2b7b329-8681-4689-968f-4266265cbfb3",
     "showTitle": false,
     "tableResultSettingsMap": {},
     "title": ""
    }
   },
   "outputs": [],
   "source": [
    "from pyspark.sql import SparkSession\n",
    "from pyspark.sql.functions import explode, col\n",
    "\n",
    "spark = SparkSession.builder.appName(\"ExplodeAndJoin\").getOrCreate()\n",
    "commentary_data = [\n",
    "    (1, \"Team A\", [\"player1\", \"player2\", \"player3\"], \"player1\"),\n",
    "    (2, \"Team B\", [\"player4\", \"player5\", \"player6\"], \"player5\")\n",
    "]\n",
    "player_data = [\n",
    "    (\"player1\", \"John Smith\", True),\n",
    "    (\"player2\", \"Mike Johnson\", False),\n",
    "    (\"player3\", \"David Lee\", False),\n",
    "    (\"player4\", \"Chris Brown\", False),\n",
    "    (\"player5\", \"James Wilson\", True),\n",
    "    (\"player6\", \"Tom Davis\", False)\n",
    "]\n",
    "\n",
    "commentary_df = spark.createDataFrame(\n",
    "    commentary_data, \n",
    "    [\"match_id\", \"team\", \"playing11\", \"captain_id\"]\n",
    ")\n",
    "\n",
    "player_df = spark.createDataFrame(\n",
    "    player_data,\n",
    "    [\"player_id\", \"player_name\", \"is_captain\"]\n",
    ")\n",
    "exploded_df = commentary_df.withColumn(\n",
    "    \"player_id\", \n",
    "    explode(\"playing11\")\n",
    ")\n",
    "joined_df = exploded_df.join(\n",
    "    player_df,\n",
    "    exploded_df.player_id == player_df.player_id,\n",
    "    \"left\"\n",
    ")\n",
    "spark.stop()"
   ]
  }
 ],
 "metadata": {
  "application/vnd.databricks.v1+notebook": {
   "computePreferences": null,
   "dashboards": [],
   "environmentMetadata": {
    "base_environment": "",
    "environment_version": "2"
   },
   "inputWidgetPreferences": null,
   "language": "python",
   "notebookMetadata": {
    "pythonIndentUnit": 4
   },
   "notebookName": "task 8.ipynb",
   "widgets": {}
  },
  "language_info": {
   "name": "python"
  }
 },
 "nbformat": 4,
 "nbformat_minor": 0
}