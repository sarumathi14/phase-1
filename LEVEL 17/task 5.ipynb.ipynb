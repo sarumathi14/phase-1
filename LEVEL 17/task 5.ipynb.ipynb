{
 "cells": [
  {
   "cell_type": "code",
   "execution_count": 0,
   "metadata": {
    "application/vnd.databricks.v1+cell": {
     "cellMetadata": {
      "byteLimit": 2048000,
      "rowLimit": 10000
     },
     "inputWidgets": {},
     "nuid": "9a0b5cc6-c788-4dc6-b9aa-ab7181843975",
     "showTitle": false,
     "tableResultSettingsMap": {},
     "title": ""
    }
   },
   "outputs": [
    {
     "output_type": "stream",
     "name": "stdout",
     "output_type": "stream",
     "text": [
      "\n2. Match status counts by year:\n+---------+----+----+----+\n|   status|2020|2021|2022|\n+---------+----+----+----+\n|abandoned|   1|   0|   1|\n|completed|   4|   4|   4|\n|     tied|   0|   1|   0|\n+---------+----+----+----+\n\n\n3. Average balls per inning:\n+----+--------------------+\n|year|avg_balls_per_inning|\n+----+--------------------+\n|2020|  125.83333333333333|\n|2021|              116.25|\n|2022|               120.0|\n+----+--------------------+\n\n\n4. Number of wins per team by year:\n+----+------+-----+\n|year|winner|count|\n+----+------+-----+\n|2020|    MI|    2|\n|2020|    DC|    1|\n|2020|   SRH|    1|\n|2021|   CSK|    1|\n|2021|   KKR|    1|\n|2021|    DC|    1|\n|2021|    MI|    1|\n|2022|    MI|    1|\n|2022|    GT|    1|\n|2022|   LSG|    1|\n|2022|   RCB|    1|\n+----+------+-----+\n\n\n5. Batsmen collection comparison:\n+----+----+-----------------------+----------------+\n|year|team|batsmen_list           |batsmen_set     |\n+----+----+-----------------------+----------------+\n|2020|MI  |[Rohit, Rohit, De Kock]|[Rohit, De Kock]|\n|2022|GT  |[Hardik, Hardik]       |[Hardik]        |\n|2021|CSK |[Ruturaj, Ruturaj]     |[Ruturaj]       |\n|2021|MI  |[Rohit]                |[Rohit]         |\n|2020|CSK |[Dhoni]                |[Dhoni]         |\n+----+----+-----------------------+----------------+\n\n"
     ]
    }
   ],
   "source": [
    "from pyspark.sql import SparkSession\n",
    "from pyspark.sql.functions import *\n",
    "from pyspark.sql.window import Window\n",
    "spark = SparkSession.builder.appName(\"IPLAggregations\").getOrCreate()\n",
    "match_data = [\n",
    "    (2020, \"MI\", \"CSK\", \"MI\", \"completed\", 120, 1),\n",
    "    (2020, \"DC\", \"RCB\", \"DC\", \"completed\", 119, 1),\n",
    "    (2020, \"SRH\", \"KKR\", \"SRH\", \"completed\", 156, 1),\n",
    "    (2020, \"MI\", \"DC\", \"MI\", \"completed\", 120, 2),\n",
    "    (2020, \"RCB\", \"SRH\", None, \"abandoned\", None, None),\n",
    "    (2021, \"CSK\", \"MI\", \"CSK\", \"completed\", 120, 1),\n",
    "    (2021, \"RCB\", \"KKR\", \"KKR\", \"completed\", 90, 1),\n",
    "    (2021, \"DC\", \"SRH\", \"DC\", \"completed\", 120, 1),\n",
    "    (2021, \"MI\", \"RCB\", \"MI\", \"completed\", 120, 2),\n",
    "    (2021, \"KKR\", \"DC\", None, \"tied\", 120, 1),\n",
    "    (2022, \"MI\", \"CSK\", \"MI\", \"completed\", 120, 1),\n",
    "    (2022, \"GT\", \"RR\", \"GT\", \"completed\", 120, 1),\n",
    "    (2022, \"RCB\", \"KKR\", \"RCB\", \"completed\", 120, 1),\n",
    "    (2022, \"LSG\", \"DC\", \"LSG\", \"completed\", 120, 1),\n",
    "    (2022, \"SRH\", \"PBKS\", None, \"abandoned\", None, None)\n",
    "]\n",
    "ball_data = [\n",
    "    (2020, \"MI\", 1, 1, \"Rohit\"),\n",
    "    (2020, \"MI\", 1, 2, \"Rohit\"),\n",
    "    (2020, \"MI\", 1, 3, \"De Kock\"),\n",
    "    (2020, \"CSK\", 1, 1, \"Dhoni\"),\n",
    "    (2021, \"CSK\", 1, 1, \"Ruturaj\"),\n",
    "    (2021, \"CSK\", 1, 2, \"Ruturaj\"),\n",
    "    (2021, \"MI\", 1, 1, \"Rohit\"),\n",
    "    (2022, \"GT\", 1, 1, \"Hardik\"),\n",
    "    (2022, \"GT\", 1, 2, \"Hardik\")\n",
    "]\n",
    "match_df = spark.createDataFrame(match_data, [\"year\", \"team1\", \"team2\", \"winner\", \"status\", \"ball_no\", \"inning\"])\n",
    "ball_df = spark.createDataFrame(ball_data, [\"year\", \"team\", \"match_id\", \"ball_no\", \"batsman\"])\n",
    "\n",
    "match_status = match_df.groupBy(\"year\", \"status\").count() \\\n",
    "    .groupBy(\"status\").pivot(\"year\").sum(\"count\") \\\n",
    "    .na.fill(0).orderBy(\"status\")\n",
    "avg_balls = match_df.filter(col(\"ball_no\").isNotNull()) \\\n",
    "    .groupBy(\"year\", \"inning\").agg(\n",
    "        avg(\"ball_no\").alias(\"avg_balls\")\n",
    "    ).groupBy(\"year\").agg(\n",
    "        avg(\"avg_balls\").alias(\"avg_balls_per_inning\")\n",
    "    ).orderBy(\"year\")\n",
    "wins_per_team = match_df.filter(col(\"status\") == \"completed\") \\\n",
    "    .groupBy(\"year\", \"winner\").count() \\\n",
    "    .orderBy(\"year\", desc(\"count\"))\n",
    "batsmen_list = ball_df.groupBy(\"year\", \"team\").agg(\n",
    "    collect_list(\"batsman\").alias(\"batsmen_list\"),\n",
    "    collect_set(\"batsman\").alias(\"batsmen_set\")\n",
    ")\n",
    "\n",
    "print(\"\\n2. Match status counts by year:\")\n",
    "match_status.show()\n",
    "\n",
    "print(\"\\n3. Average balls per inning:\")\n",
    "avg_balls.show()\n",
    "\n",
    "print(\"\\n4. Number of wins per team by year:\")\n",
    "wins_per_team.show()\n",
    "\n",
    "print(\"\\n5. Batsmen collection comparison:\")\n",
    "batsmen_list.show(truncate=False)\n",
    "\n",
    "spark.stop()"
   ]
  }
 ],
 "metadata": {
  "application/vnd.databricks.v1+notebook": {
   "computePreferences": null,
   "dashboards": [],
   "environmentMetadata": {
    "base_environment": "",
    "environment_version": "2"
   },
   "inputWidgetPreferences": null,
   "language": "python",
   "notebookMetadata": {
    "pythonIndentUnit": 4
   },
   "notebookName": "task 5.ipynb",
   "widgets": {}
  },
  "language_info": {
   "name": "python"
  }
 },
 "nbformat": 4,
 "nbformat_minor": 0
}