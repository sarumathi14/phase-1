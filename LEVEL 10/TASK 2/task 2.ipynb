{
 "cells": [
  {
   "cell_type": "code",
   "execution_count": 1,
   "metadata": {},
   "outputs": [
    {
     "name": "stdout",
     "output_type": "stream",
     "text": [
      "Male survival rate: 18.89%\n",
      "Female survival rate: 74.20%\n",
      "Difference in survival rates: 55.31%\n",
      "\n",
      "Z-test Results:\n",
      "Z-score: -16.2188\n",
      "P-value: 0.0000000000\n",
      "\n",
      "T-test Results:\n",
      "T-statistic: -18.6718\n",
      "P-value: 0.0000000000\n",
      "\n",
      "Conclusion:\n",
      "There is a statistically significant difference in survival rates between male and female passengers.\n"
     ]
    }
   ],
   "source": [
    "import pandas as pd\n",
    "import numpy as np\n",
    "from scipy import stats\n",
    "import seaborn as sns\n",
    "titanic = sns.load_dataset('titanic')\n",
    "titanic_clean = titanic[['sex', 'survived']].dropna()\n",
    "male_survival = titanic_clean[titanic_clean['sex'] == 'male']['survived']\n",
    "female_survival = titanic_clean[titanic_clean['sex'] == 'female']['survived']\n",
    "male_rate = male_survival.mean()\n",
    "female_rate = female_survival.mean()\n",
    "print(f\"Male survival rate: {male_rate:.2%}\")\n",
    "print(f\"Female survival rate: {female_rate:.2%}\")\n",
    "print(f\"Difference in survival rates: {abs(male_rate - female_rate):.2%}\")\n",
    "def ztest_proportions_two_samples(x1, n1, x2, n2):\n",
    "    p1 = x1/n1\n",
    "    p2 = x2/n2\n",
    "    p = (x1 + x2)/(n1 + n2)\n",
    "    se = np.sqrt(p*(1 - p)*(1/n1 + 1/n2))\n",
    "    z = (p1 - p2)/se\n",
    "    p_value = 2 * (1 - stats.norm.cdf(abs(z)))  \n",
    "    return z, p_value\n",
    "n_male = len(male_survival)\n",
    "x_male = sum(male_survival)\n",
    "n_female = len(female_survival)\n",
    "x_female = sum(female_survival)\n",
    "z_score, p_value = ztest_proportions_two_samples(x_male, n_male, x_female, n_female)\n",
    "print(f\"\\nZ-test Results:\")\n",
    "print(f\"Z-score: {z_score:.4f}\")\n",
    "print(f\"P-value: {p_value:.10f}\")\n",
    "t_stat, t_p_value = stats.ttest_ind(male_survival, female_survival, equal_var=False)\n",
    "print(f\"\\nT-test Results:\")\n",
    "print(f\"T-statistic: {t_stat:.4f}\")\n",
    "print(f\"P-value: {t_p_value:.10f}\")\n",
    "alpha = 0.05\n",
    "print(\"\\nConclusion:\")\n",
    "if p_value < alpha:\n",
    "    print(\"There is a statistically significant difference in survival rates between male and female passengers.\")\n",
    "else:\n",
    "    print(\"There is no statistically significant difference in survival rates between male and female passengers.\")"
   ]
  }
 ],
 "metadata": {
  "kernelspec": {
   "display_name": "Python 3",
   "language": "python",
   "name": "python3"
  },
  "language_info": {
   "codemirror_mode": {
    "name": "ipython",
    "version": 3
   },
   "file_extension": ".py",
   "mimetype": "text/x-python",
   "name": "python",
   "nbconvert_exporter": "python",
   "pygments_lexer": "ipython3",
   "version": "3.12.6"
  }
 },
 "nbformat": 4,
 "nbformat_minor": 2
}
