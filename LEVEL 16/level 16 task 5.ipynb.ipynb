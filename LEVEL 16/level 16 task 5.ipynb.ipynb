{
 "cells": [
  {
   "cell_type": "code",
   "execution_count": 0,
   "metadata": {
    "application/vnd.databricks.v1+cell": {
     "cellMetadata": {
      "byteLimit": 2048000,
      "rowLimit": 10000
     },
     "inputWidgets": {},
     "nuid": "3d5d091f-61a6-4f3c-a483-bb14dff795f1",
     "showTitle": false,
     "tableResultSettingsMap": {},
     "title": ""
    },
    "jupyter": {
     "source_hidden": true
    }
   },
   "outputs": [
    {
     "output_type": "stream",
     "name": "stdout",
     "output_type": "stream",
     "text": [
      "Original DataFrame:\n+-----------+--------------+-----------+------+\n|employee_id|          name| department|salary|\n+-----------+--------------+-----------+------+\n|        101|      John Doe|Engineering| 75000|\n|        102|    Jane Smith|  Marketing| 68000|\n|        103|  Mike Johnson|      Sales| 72000|\n|        104|Sarah Williams|Engineering| 80000|\n+-----------+--------------+-----------+------+\n\n\nReading Delta table:\n\nQuerying Delta table with SQL:\n"
     ]
    }
   ],
   "source": [
    "from pyspark.sql import SparkSession\n",
    "from pyspark.sql.types import *\n",
    "spark = SparkSession.builder \\\n",
    "    .appName(\"CreateDeltaTable\") \\\n",
    "    .config(\"spark.sql.extensions\", \"io.delta.sql.DeltaSparkSessionExtension\") \\\n",
    "    .config(\"spark.sql.catalog.spark_catalog\", \"org.apache.spark.sql.delta.catalog.DeltaCatalog\") \\\n",
    "    .getOrCreate()\n",
    "employee_data = [\n",
    "    (101, \"John Doe\", \"Engineering\", 75000),\n",
    "    (102, \"Jane Smith\", \"Marketing\", 68000),\n",
    "    (103, \"Mike Johnson\", \"Sales\", 72000),\n",
    "    (104, \"Sarah Williams\", \"Engineering\", 80000)\n",
    "]\n",
    "employee_schema = StructType([\n",
    "    StructField(\"employee_id\", IntegerType(), False),\n",
    "    StructField(\"name\", StringType(), False),\n",
    "    StructField(\"department\", StringType(), False),\n",
    "    StructField(\"salary\", IntegerType(), False)\n",
    "])\n",
    "employees_df = spark.createDataFrame(employee_data, schema=employee_schema)\n",
    "print(\"Original DataFrame:\")\n",
    "employees_df.show()\n",
    "delta_table_path = \"/delta/employees\"\n",
    "print(\"\\nReading Delta table:\")\n",
    "delta_df = spark.read.format(\"delta\").load(delta_table_path)\n",
    "print(\"\\nQuerying Delta table with SQL:\")"
   ]
  }
 ],
 "metadata": {
  "application/vnd.databricks.v1+notebook": {
   "computePreferences": null,
   "dashboards": [],
   "environmentMetadata": {
    "base_environment": "",
    "environment_version": "2"
   },
   "inputWidgetPreferences": null,
   "language": "python",
   "notebookMetadata": {
    "pythonIndentUnit": 4
   },
   "notebookName": "level 16 task 5.ipynb",
   "widgets": {}
  },
  "language_info": {
   "name": "python"
  }
 },
 "nbformat": 4,
 "nbformat_minor": 0
}