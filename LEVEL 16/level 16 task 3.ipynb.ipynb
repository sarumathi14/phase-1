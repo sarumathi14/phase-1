{
 "cells": [
  {
   "cell_type": "code",
   "execution_count": 0,
   "metadata": {
    "application/vnd.databricks.v1+cell": {
     "cellMetadata": {
      "byteLimit": 2048000,
      "rowLimit": 10000
     },
     "inputWidgets": {},
     "nuid": "6ccf6cd3-8e1d-426a-a601-99b537f1e8ee",
     "showTitle": false,
     "tableResultSettingsMap": {},
     "title": ""
    }
   },
   "outputs": [
    {
     "output_type": "stream",
     "name": "stdout",
     "output_type": "stream",
     "text": [
      "Output from show() function:\n+-------+--------------+------+\n|   Name|    Occupation|Salary|\n+-------+--------------+------+\n|  Alice|      Engineer| 75000|\n|    Bob|Data Scientist| 82000|\n|Charlie|       Manager| 95000|\n|  Diana|     Developer| 78000|\n+-------+--------------+------+\n\n\nOutput from display() function:\n"
     ]
    },
    {
     "output_type": "display_data",
     "data": {
      "text/html": [
       "<style scoped>\n",
       "  .table-result-container {\n",
       "    max-height: 300px;\n",
       "    overflow: auto;\n",
       "  }\n",
       "  table, th, td {\n",
       "    border: 1px solid black;\n",
       "    border-collapse: collapse;\n",
       "  }\n",
       "  th, td {\n",
       "    padding: 5px;\n",
       "  }\n",
       "  th {\n",
       "    text-align: left;\n",
       "  }\n",
       "</style><div class='table-result-container'><table class='table-result'><thead style='background-color: white'><tr><th>Name</th><th>Occupation</th><th>Salary</th></tr></thead><tbody><tr><td>Alice</td><td>Engineer</td><td>75000</td></tr><tr><td>Bob</td><td>Data Scientist</td><td>82000</td></tr><tr><td>Charlie</td><td>Manager</td><td>95000</td></tr><tr><td>Diana</td><td>Developer</td><td>78000</td></tr></tbody></table></div>"
      ]
     },
     "metadata": {
      "application/vnd.databricks.v1+output": {
       "addedWidgets": {},
       "aggData": [],
       "aggError": "",
       "aggOverflow": false,
       "aggSchema": [],
       "aggSeriesLimitReached": false,
       "aggType": "",
       "arguments": {},
       "columnCustomDisplayInfos": {},
       "data": [
        [
         "Alice",
         "Engineer",
         75000
        ],
        [
         "Bob",
         "Data Scientist",
         82000
        ],
        [
         "Charlie",
         "Manager",
         95000
        ],
        [
         "Diana",
         "Developer",
         78000
        ]
       ],
       "datasetInfos": [],
       "dbfsResultPath": null,
       "isJsonSchema": true,
       "metadata": {},
       "overflow": false,
       "plotOptions": {
        "customPlotOptions": {},
        "displayType": "table",
        "pivotAggregation": null,
        "pivotColumns": null,
        "xColumns": null,
        "yColumns": null
       },
       "removedWidgets": [],
       "schema": [
        {
         "metadata": "{}",
         "name": "Name",
         "type": "\"string\""
        },
        {
         "metadata": "{}",
         "name": "Occupation",
         "type": "\"string\""
        },
        {
         "metadata": "{}",
         "name": "Salary",
         "type": "\"long\""
        }
       ],
       "type": "table"
      }
     },
     "output_type": "display_data"
    }
   ],
   "source": [
    "from pyspark.sql import SparkSession\n",
    "from pyspark.sql.functions import col\n",
    "\n",
    "spark = SparkSession.builder.getOrCreate()\n",
    "\n",
    "data = [(\"Alice\", 34, \"Engineer\", 75000),\n",
    "        (\"Bob\", 28, \"Data Scientist\", 82000),\n",
    "        (\"Charlie\", 45, \"Manager\", 95000),\n",
    "        (\"Diana\", 32, \"Developer\", 78000)]\n",
    "\n",
    "columns = [\"Name\", \"Age\", \"Occupation\", \"Salary\"]\n",
    "df = spark.createDataFrame(data, columns)\n",
    "selected_df = df.select(col(\"Name\"), col(\"Occupation\"), col(\"Salary\"))\n",
    "print(\"Output from show() function:\")\n",
    "selected_df.show()\n",
    "print(\"\\nOutput from display() function:\")\n",
    "display(selected_df)"
   ]
  }
 ],
 "metadata": {
  "application/vnd.databricks.v1+notebook": {
   "computePreferences": null,
   "dashboards": [],
   "environmentMetadata": {
    "base_environment": "",
    "environment_version": "2"
   },
   "inputWidgetPreferences": null,
   "language": "python",
   "notebookMetadata": {
    "pythonIndentUnit": 4
   },
   "notebookName": "level 16 task 3.ipynb",
   "widgets": {}
  },
  "language_info": {
   "name": "python"
  }
 },
 "nbformat": 4,
 "nbformat_minor": 0
}