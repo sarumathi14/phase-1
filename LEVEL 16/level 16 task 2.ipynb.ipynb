{
 "cells": [
  {
   "cell_type": "code",
   "execution_count": 0,
   "metadata": {
    "application/vnd.databricks.v1+cell": {
     "cellMetadata": {
      "byteLimit": 2048000,
      "rowLimit": 10000
     },
     "inputWidgets": {},
     "nuid": "460a4028-98b0-4aef-9670-f7f5a4cd989f",
     "showTitle": false,
     "tableResultSettingsMap": {},
     "title": ""
    }
   },
   "outputs": [
    {
     "output_type": "stream",
     "name": "stdout",
     "output_type": "stream",
     "text": [
      "\nshow() with truncate=False and n=5:\n\nshow() vertical display:\ndisplay() output:\n\nFeature comparison between show() and display():\n+--------------+-----------------------+------------------------+\n|Feature       |show()                 |display()               |\n+--------------+-----------------------+------------------------+\n|Available in  |Standard PySpark       |Databricks/Jupyter      |\n|Output type   |Text in console        |HTML in notebook        |\n|Truncation    |Default 20 chars       |No truncation by default|\n|Visualization |Text only              |Supports charts/graphs  |\n|Pagination    |Manual with n parameter|Automatic               |\n|Formatting    |Basic alignment        |Rich formatting         |\n|Export options|None                   |CSV, image, etc.        |\n+--------------+-----------------------+------------------------+\n\n"
     ]
    }
   ],
   "source": [
    "\n",
    "print(\"\\nshow() with truncate=False and n=5:\")\n",
    "\n",
    "print(\"\\nshow() vertical display:\")\n",
    "print(\"display() output:\")\n",
    "comparison_data = [\n",
    "    (\"Available in\", \"Standard PySpark\", \"Databricks/Jupyter\"),\n",
    "    (\"Output type\", \"Text in console\", \"HTML in notebook\"),\n",
    "    (\"Truncation\", \"Default 20 chars\", \"No truncation by default\"),\n",
    "    (\"Visualization\", \"Text only\", \"Supports charts/graphs\"),\n",
    "    (\"Pagination\", \"Manual with n parameter\", \"Automatic\"),\n",
    "    (\"Formatting\", \"Basic alignment\", \"Rich formatting\"),\n",
    "    (\"Export options\", \"None\", \"CSV, image, etc.\")\n",
    "]\n",
    "\n",
    "comparison_df = spark.createDataFrame(comparison_data, [\"Feature\", \"show()\", \"display()\"])\n",
    "\n",
    "print(\"\\nFeature comparison between show() and display():\")\n",
    "comparison_df.show(truncate=False)"
   ]
  }
 ],
 "metadata": {
  "application/vnd.databricks.v1+notebook": {
   "computePreferences": null,
   "dashboards": [],
   "environmentMetadata": {
    "base_environment": "",
    "environment_version": "2"
   },
   "inputWidgetPreferences": null,
   "language": "python",
   "notebookMetadata": {
    "pythonIndentUnit": 4
   },
   "notebookName": "level 16 task 2.ipynb",
   "widgets": {}
  },
  "language_info": {
   "name": "python"
  }
 },
 "nbformat": 4,
 "nbformat_minor": 0
}