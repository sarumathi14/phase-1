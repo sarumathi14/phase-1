{
 "cells": [
  {
   "cell_type": "code",
   "execution_count": 1,
   "metadata": {},
   "outputs": [
    {
     "name": "stdout",
     "output_type": "stream",
     "text": [
      "DataFrame with new feature column:\n",
      "   house_id   price  bedrooms  area_sqft  price_per_sqft\n",
      "0         1  250000         3       1500      166.666667\n",
      "1         2  350000         4       2000      175.000000\n",
      "2         3  500000         4       2200      227.272727\n",
      "3         4  275000         2       1200      229.166667\n"
     ]
    }
   ],
   "source": [
    "import pandas as pd\n",
    "data = {\n",
    "    'house_id': [1, 2, 3, 4],\n",
    "    'price': [250000, 350000, 500000, 275000],\n",
    "    'bedrooms': [3, 4, 4, 2],\n",
    "    'area_sqft': [1500, 2000, 2200, 1200]\n",
    "}\n",
    "df = pd.DataFrame(data)\n",
    "df['price_per_sqft'] = df['price'] / df['area_sqft']\n",
    "print(\"DataFrame with new feature column:\")\n",
    "print(df)"
   ]
  }
 ],
 "metadata": {
  "kernelspec": {
   "display_name": "Python 3",
   "language": "python",
   "name": "python3"
  },
  "language_info": {
   "codemirror_mode": {
    "name": "ipython",
    "version": 3
   },
   "file_extension": ".py",
   "mimetype": "text/x-python",
   "name": "python",
   "nbconvert_exporter": "python",
   "pygments_lexer": "ipython3",
   "version": "3.12.6"
  }
 },
 "nbformat": 4,
 "nbformat_minor": 2
}
