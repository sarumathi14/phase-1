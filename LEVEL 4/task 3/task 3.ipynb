{
 "cells": [
  {
   "cell_type": "code",
   "execution_count": null,
   "metadata": {},
   "outputs": [
    {
     "name": "stdout",
     "output_type": "stream",
     "text": [
      "[1, 2, 3]\n",
      "['A', 'B', 'C']\n",
      "Both threads have finished execution\n"
     ]
    }
   ],
   "source": [
    "import threading\n",
    "import time\n",
    "def print_numbers():\n",
    "    numbers = [1, 2, 3]\n",
    "    print(numbers)\n",
    "    time.sleep(0.1)  \n",
    "def print_letters():\n",
    "    letters = [\"A\", \"B\", \"C\"]\n",
    "    print(letters)\n",
    "    time.sleep(0.1) \n",
    "thread1 = threading.Thread(target=print_numbers)\n",
    "thread2 = threading.Thread(target=print_letters)\n",
    "thread1.start()\n",
    "thread2.start()\n",
    "thread1.join()\n",
    "thread2.join()\n",
    "print(\"Both threads have finished execution\")"
   ]
  }
 ],
 "metadata": {
  "kernelspec": {
   "display_name": "Python 3",
   "language": "python",
   "name": "python3"
  },
  "language_info": {
   "codemirror_mode": {
    "name": "ipython",
    "version": 3
   },
   "file_extension": ".py",
   "mimetype": "text/x-python",
   "name": "python",
   "nbconvert_exporter": "python",
   "pygments_lexer": "ipython3",
   "version": "3.12.6"
  }
 },
 "nbformat": 4,
 "nbformat_minor": 2
}
