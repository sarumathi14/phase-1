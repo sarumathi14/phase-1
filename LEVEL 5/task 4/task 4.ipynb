{
 "cells": [
  {
   "cell_type": "code",
   "execution_count": 7,
   "metadata": {},
   "outputs": [
    {
     "name": "stdout",
     "output_type": "stream",
     "text": [
      "Note: you may need to restart the kernel to use updated packages.\n"
     ]
    },
    {
     "name": "stderr",
     "output_type": "stream",
     "text": [
      "ERROR: Could not find a version that satisfies the requirement PySide2 (from versions: none)\n",
      "\n",
      "[notice] A new release of pip is available: 24.2 -> 25.0.1\n",
      "[notice] To update, run: python.exe -m pip install --upgrade pip\n",
      "ERROR: No matching distribution found for PySide2\n"
     ]
    }
   ],
   "source": [
    "pip install PySide2"
   ]
  },
  {
   "cell_type": "code",
   "execution_count": null,
   "metadata": {},
   "outputs": [
    {
     "name": "stdout",
     "output_type": "stream",
     "text": [
      "Custom Data Class Dashboard\n",
      "==================================================\n",
      "\n",
      "✅ Data loaded successfully (5000 rows, 7 columns)\n",
      "First 3 rows:\n",
      "   Avg. Area Income  Avg. Area House Age  Avg. Area Number of Rooms  \\\n",
      "0       79545.45857             5.682861                   7.009188   \n",
      "1       79248.64245             6.002900                   6.730821   \n",
      "2       61287.06718             5.865890                   8.512727   \n",
      "\n",
      "   Avg. Area Number of Bedrooms  Area Population        Price  \\\n",
      "0                          4.09      23086.80050  1059033.558   \n",
      "1                          3.09      40173.07217  1505890.915   \n",
      "2                          5.13      36882.15940  1058987.988   \n",
      "\n",
      "                                             Address  \n",
      "0  208 Michael Ferry Apt. 674\\nLaurabury, NE 3701...  \n",
      "1  188 Johnson Views Suite 079\\nLake Kathleen, CA...  \n",
      "2  9127 Elizabeth Stravenue\\nDanieltown, WI 06482...  \n",
      "\n",
      "❌ Error: 'DataDashboard' object has no attribute '_generate_profiles'\n",
      "Please check:\n",
      "- File exists and is accessible\n",
      "- File is a valid CSV\n",
      "- You have required dependencies installed\n",
      "\n",
      "Try installing dependencies with:\n",
      "pip install pandas matplotlib numpy\n"
     ]
    }
   ],
   "source": [
    "import pandas as pd\n",
    "import matplotlib.pyplot as plt\n",
    "from dataclasses import dataclass\n",
    "from typing import List, Optional\n",
    "import numpy as np\n",
    "import os\n",
    "import platform\n",
    "try:\n",
    "    if platform.system() == 'Darwin':\n",
    "        plt.switch_backend('TkAgg')\n",
    "    else:\n",
    "        try:\n",
    "            plt.switch_backend('Qt5Agg')\n",
    "        except ImportError:\n",
    "            plt.switch_backend('TkAgg')\n",
    "except Exception as e:\n",
    "    print(f\"Backend selection warning: {str(e)}\")\n",
    "    plt.switch_backend('Agg')  \n",
    "@dataclass\n",
    "class ColumnProfile:\n",
    "    \"\"\"Data profile for a single column\"\"\"\n",
    "    name: str\n",
    "    dtype: str\n",
    "    mean: Optional[float] = None\n",
    "    median: Optional[float] = None\n",
    "    min: Optional[float] = None\n",
    "    max: Optional[float] = None\n",
    "    std: Optional[float] = None\n",
    "    unique_count: Optional[int] = None\n",
    "    null_count: int = 0\n",
    "class DataDashboard:\n",
    "    \"\"\"Interactive data exploration dashboard\"\"\"\n",
    "    def __init__(self, file_path: str):\n",
    "        self.file_path = file_path\n",
    "        self.df = self._load_data()\n",
    "        self.profiles = self._generate_profiles()      \n",
    "    def _load_data(self) -> pd.DataFrame:\n",
    "        \"\"\"Load and validate input data\"\"\"\n",
    "        if not os.path.exists(self.file_path):\n",
    "            raise FileNotFoundError(f\"File not found: {self.file_path}\")            \n",
    "        try:\n",
    "            df = pd.read_csv(self.file_path)\n",
    "            print(f\"\\n✅ Data loaded successfully ({len(df)} rows, {len(df.columns)} columns)\")\n",
    "            print(\"First 3 rows:\")\n",
    "            print(df.head(3))\n",
    "            return df\n",
    "        except Exception as e:\n",
    "            raise ValueError(f\"Error loading CSV: {str(e)}\")\n",
    "def main():\n",
    "    \"\"\"Entry point for the dashboard\"\"\"\n",
    "    default_path = r\"C:\\Users\\sarum\\OneDrive\\Desktop\\LEVEL 5\\task 4\\housing.csv\"    \n",
    "    print(\"Custom Data Class Dashboard\")\n",
    "    print(\"=\"*50)\n",
    "    file_path = input(f\"Enter data file path [default: {default_path}]: \").strip() or default_path   \n",
    "    try:\n",
    "        dashboard = DataDashboard(file_path)\n",
    "        dashboard.start_interactive()\n",
    "    except Exception as e:\n",
    "        print(f\"\\n❌ Error: {str(e)}\")\n",
    "        print(\"Please check:\")\n",
    "        print(\"- File exists and is accessible\")\n",
    "        print(\"- File is a valid CSV\")\n",
    "        print(\"- You have required dependencies installed\")\n",
    "        print(\"\\nTry installing dependencies with:\")\n",
    "        print(\"pip install pandas matplotlib numpy\")\n",
    "if __name__ == \"__main__\":\n",
    "    main()"
   ]
  }
 ],
 "metadata": {
  "kernelspec": {
   "display_name": "Python 3",
   "language": "python",
   "name": "python3"
  },
  "language_info": {
   "codemirror_mode": {
    "name": "ipython",
    "version": 3
   },
   "file_extension": ".py",
   "mimetype": "text/x-python",
   "name": "python",
   "nbconvert_exporter": "python",
   "pygments_lexer": "ipython3",
   "version": "3.12.6"
  }
 },
 "nbformat": 4,
 "nbformat_minor": 2
}
