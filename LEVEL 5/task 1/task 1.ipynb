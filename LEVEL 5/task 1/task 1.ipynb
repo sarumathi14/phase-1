{
 "cells": [
  {
   "cell_type": "code",
   "execution_count": null,
   "metadata": {},
   "outputs": [
    {
     "name": "stdout",
     "output_type": "stream",
     "text": [
      "\n",
      "=== Budget Summary ===\n",
      "Income: $3700\n",
      "Expenses: $2250\n",
      "Balance: $1450\n",
      "=====================\n"
     ]
    }
   ],
   "source": [
    "def calculate_total(transactions):\n",
    "    \"\"\"Calculate the total of a transaction dictionary\"\"\"\n",
    "    return sum(transactions.values())\n",
    "def print_budget_summary(income, expenses):\n",
    "    \"\"\"Print a formatted summary of income, expenses, and balance\"\"\"\n",
    "    total_income = calculate_total(income)\n",
    "    total_expenses = calculate_total(expenses)\n",
    "    balance = total_income - total_expenses\n",
    "    print(\"\\n=== Budget Summary ===\")\n",
    "    print(f\"Income: ${total_income}\")\n",
    "    print(f\"Expenses: ${total_expenses}\")\n",
    "    print(f\"Balance: ${balance}\")\n",
    "    print(\"=====================\")\n",
    "if __name__ == \"__main__\":\n",
    "    income_sources = {\n",
    "        \"salary\": 3000,\n",
    "        \"freelance\": 500,\n",
    "        \"investments\": 200\n",
    "    }\n",
    "    expense_categories = {\n",
    "        \"rent\": 1200,\n",
    "        \"food\": 600,\n",
    "        \"transportation\": 200,\n",
    "        \"utilities\": 150,\n",
    "        \"entertainment\": 100\n",
    "    }\n",
    "    print_budget_summary(income_sources, expense_categories)"
   ]
  }
 ],
 "metadata": {
  "kernelspec": {
   "display_name": "Python 3",
   "language": "python",
   "name": "python3"
  },
  "language_info": {
   "codemirror_mode": {
    "name": "ipython",
    "version": 3
   },
   "file_extension": ".py",
   "mimetype": "text/x-python",
   "name": "python",
   "nbconvert_exporter": "python",
   "pygments_lexer": "ipython3",
   "version": "3.12.6"
  }
 },
 "nbformat": 4,
 "nbformat_minor": 2
}
